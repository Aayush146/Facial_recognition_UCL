{
  "nbformat": 4,
  "nbformat_minor": 0,
  "metadata": {
    "colab": {
      "provenance": []
    },
    "kernelspec": {
      "name": "python3",
      "display_name": "Python 3"
    },
    "language_info": {
      "name": "python"
    }
  },
  "cells": [
    {
      "cell_type": "code",
      "execution_count": null,
      "metadata": {
        "id": "gvuTFJ5wWiYX"
      },
      "outputs": [],
      "source": [
        "import sklearn \n",
        "import numpy as np\n",
        "import tensorflow as tf\n",
        "import os\n",
        "import matplotlib.pyplot as plt\n",
        "\n",
        "# for SVM \n",
        "from sklearn.svm import SVC, LinearSVC\n",
        "from sklearn.model_selection import train_test_split\n",
        "from sklearn.utils import shuffle\n",
        "from sklearn.metrics import classification_report, accuracy_score \n",
        "from sklearn.decomposition import PCA\n",
        "\n",
        "\n",
        "# viola jones \n",
        "import cv2 as cv\n",
        "import scipy\n",
        "import math\n",
        "import PIL\n",
        "from PIL import Image\n",
        "import pandas as pd\n",
        "\n",
        "# dlib detector \n",
        "import dlib\n",
        "from google.colab.patches import cv2_imshow"
      ]
    },
    {
      "cell_type": "code",
      "source": [
        "from collections import Counter\n",
        "with open('/content/drive/MyDrive/UCL_machine_learning_course /Assignment datasets/celeba/labels.csv', 'r') as d:\n",
        "  lines = d.readlines()[1:]\n",
        "  gender_list = []\n",
        "  for line in lines:\n",
        "    gender = line.split()[2]\n",
        "    gender_list.append(gender)\n",
        "\n",
        "  print(Counter(gender_list).values())\n",
        "  print(Counter(gender_list).keys())"
      ],
      "metadata": {
        "id": "cZNKA6jclJLE"
      },
      "execution_count": null,
      "outputs": []
    },
    {
      "cell_type": "markdown",
      "source": [
        "## Support vector machine classification "
      ],
      "metadata": {
        "id": "c3YXAq8UX01e"
      }
    },
    {
      "cell_type": "code",
      "source": [
        "def get_data():\n",
        "\n",
        "  X,y = lab2_landmarks.extract_features_labels()\n",
        "  y_1 = y.astype('int64')\n",
        "\n",
        "  X_1 = X.reshape((X.shape[0], X.shape[1]* X.shape[2]))\n",
        "\n",
        "  x_train = X_1[:100]\n",
        "  y_train = y_1[:100]\n",
        "  x_test = X_1[100:]\n",
        "  y_test = y_1[100:]\n",
        "\n",
        "  return x_train, y_train, x_test, y_test\n",
        "\n",
        "def model_training(model, x_train, y_train, x_test):\n",
        "\n",
        "  model.fit(x_train, y_train)\n",
        "  y_pred = model.predict(x_test)\n",
        "\n",
        "  return y_pred\n",
        "\n",
        "def calculate_results(y_pred, y_test):\n",
        "\n",
        "  accu = accuracy_score(y_test, y_pred)\n",
        "  results = classification_report(y_test, y_pred)\n",
        "\n",
        "  return accu, results \n",
        "\n"
      ],
      "metadata": {
        "id": "_i0gZym4X49l"
      },
      "execution_count": null,
      "outputs": []
    },
    {
      "cell_type": "code",
      "source": [
        "# apply different svm kernels\n",
        "# we will keep the C paramer as default as that will be selected after the kernel is decided"
      ],
      "metadata": {
        "id": "ggXZKFxIYhM6"
      },
      "execution_count": null,
      "outputs": []
    },
    {
      "cell_type": "markdown",
      "source": [
        "# SVM linear kernel "
      ],
      "metadata": {
        "id": "8-zf-RA7xR50"
      }
    },
    {
      "cell_type": "code",
      "source": [
        "x_train, y_train, x_test, y_test = get_data()\n",
        "model = SVC(kernel = 'linear', C = 1.0)\n",
        "y_pred = model_training(model, x_train, y_train, x_test)\n",
        "accu, _ = calculate_results(y_pred, y_test)"
      ],
      "metadata": {
        "id": "v4hUJlWYz1D9"
      },
      "execution_count": null,
      "outputs": []
    },
    {
      "cell_type": "markdown",
      "source": [
        "## SVC linear "
      ],
      "metadata": {
        "id": "J4aSREzGNxh6"
      }
    },
    {
      "cell_type": "code",
      "source": [
        "x_train, y_train, x_test, y_test = get_data()\n",
        "model = LinearSVC(C = 1.0)\n",
        "y_pred = model_training(model, x_train, y_train, x_test)\n",
        "accu, _ = calculate_results(y_pred, y_test)"
      ],
      "metadata": {
        "id": "asm3L0ZXN9Yc"
      },
      "execution_count": null,
      "outputs": []
    },
    {
      "cell_type": "code",
      "source": [
        "print(' the accuracy of this Linear SVC is {}%'.format(accu*100))\n",
        "results = classification_report(y_test, y_pred)\n",
        "print(results)"
      ],
      "metadata": {
        "id": "B2DSnvPsNzHy"
      },
      "execution_count": null,
      "outputs": []
    },
    {
      "cell_type": "markdown",
      "source": [
        "## SVM rbf kernels"
      ],
      "metadata": {
        "id": "arJUlXEP85Ov"
      }
    },
    {
      "cell_type": "code",
      "source": [
        "\n",
        "model_1 = SVC(kernel = 'rbf', C = 1.0, gamma = 'scale')\n",
        "y_pred = model_training(model_1, x_train, y_train, x_test)\n",
        "accu, _ = calculate_results(y_pred, y_test)\n",
        "print(' the accuracy of the rbf kernel is {}%'.format(accu *100))\n"
      ],
      "metadata": {
        "id": "nfV3RO1X9Irm"
      },
      "execution_count": null,
      "outputs": []
    },
    {
      "cell_type": "markdown",
      "source": [
        "## Poly kernel"
      ],
      "metadata": {
        "id": "cbC3eMLhO7O7"
      }
    },
    {
      "cell_type": "code",
      "source": [
        "x_train, y_train, x_test, y_test = get_data()\n",
        "model_2 = SVC(kernel = 'poly', C = 1.0, degree = 3)\n",
        "y_pred = model_training(model_2, x_train, y_train, x_test)\n",
        "accu, _ = calculate_results(y_pred, y_test)"
      ],
      "metadata": {
        "id": "_iGgcsfBO-To"
      },
      "execution_count": null,
      "outputs": []
    },
    {
      "cell_type": "code",
      "source": [
        "print(' the accurayc of the polynomial kernel SVM is {}'.format(accu *100))\n",
        "results = classification_report(y_test, y_pred)"
      ],
      "metadata": {
        "colab": {
          "base_uri": "https://localhost:8080/"
        },
        "id": "rMpVQ__OP2ho",
        "outputId": "93b5eb7b-5058-4877-931d-d6f0b552892d"
      },
      "execution_count": null,
      "outputs": [
        {
          "output_type": "stream",
          "name": "stdout",
          "text": [
            " the accurayc of the polynomial kernel SVM is 91.66666666666666\n"
          ]
        }
      ]
    },
    {
      "cell_type": "markdown",
      "source": [
        "## Haar cascade with face alignment"
      ],
      "metadata": {
        "id": "EHw3ibebXOcS"
      }
    },
    {
      "cell_type": "code",
      "source": [
        "def euclidean_distance(a, b):\n",
        "  x1 = a[0]; y1 = a[1]\n",
        "  x2 = b[0]; y2 = b[1]\n",
        "  return math.sqrt(((x2 - x1) * (x2 - x1)) + ((y2 - y1) * (y2 - y1)))"
      ],
      "metadata": {
        "id": "yifXjZmOg_pE"
      },
      "execution_count": null,
      "outputs": []
    },
    {
      "cell_type": "code",
      "source": [
        "# load image\n",
        "base_path = '/content/drive/MyDrive/UCL_machine_learning_course /Assignment datasets/celeba/img'\n",
        "images_list = os.listdir(base_path)\n",
        "image_path = os.path.join(base_path, images_list[7])\n",
        "image_1 = cv.imread(image_path)\n",
        "image_1_copy = image_1.copy()\n",
        "gray_image = cv.cvtColor(image_1, cv.COLOR_RGB2GRAY)\n",
        "\n",
        "# define the haar classifier\n",
        "face_cascade = cv.CascadeClassifier(cv.data.haarcascades + 'haarcascade_frontalface_alt2.xml')\n",
        "eyes_cascade = cv.CascadeClassifier(cv.data.haarcascades + 'haarcascade_eye.xml')\n",
        "\n",
        "# detect faces and focus in the region of interest \n",
        "detected_faces = face_cascade.detectMultiScale(gray_image, scaleFactor = 1.1, minNeighbors = 5)\n",
        "column, row, width, height = detected_faces[0]\n",
        "resized_image = image_1[row: row + height, column: column+ width]\n",
        "resized_gray = cv.cvtColor(resized_image, cv.COLOR_RGB2GRAY)\n",
        "\n",
        "# # detect eyes in region of interest \n",
        "detected_eyes = eyes_cascade.detectMultiScale(resized_gray, scaleFactor = 1.1, minNeighbors = 5)\n",
        "print(len(detected_eyes))\n",
        "#face realignment \n",
        "index = 0\n",
        "for count, (eye_x, eye_y, eye_w, eye_h) in enumerate(detected_eyes):\n",
        "  if index == 0:\n",
        "    eye_1 = (eye_x, eye_y, eye_w, eye_h)\n",
        "  elif index == 1:\n",
        "    eye_2 = (eye_x, eye_y, eye_w, eye_h)\n",
        "  index = index + 1\n",
        "\n",
        "if eye_1[0] < eye_2[0]:\n",
        "  left_eye = eye_1\n",
        "  right_eye = eye_2\n",
        "else:\n",
        "  left_eye = eye_2\n",
        "  right_eye = eye_1\n",
        "\n",
        "# get the centers o the yes for face realignment \n",
        "\n",
        "left_eye_center_x = int(left_eye[0] + left_eye[2]/2)\n",
        "left_eye_center_y = int(left_eye[1] + left_eye[3]/2)\n",
        "right_eye_center_x = int(right_eye[0] + right_eye[2]/2)\n",
        "right_eye_center_y = int(right_eye[1] + right_eye[3]/2)\n",
        "  \n",
        "cv.circle(resized_image, (left_eye_center_x, left_eye_center_y), 1, (255,0,0), 1)\n",
        "cv.circle(resized_image, (right_eye_center_x, right_eye_center_y), 1, (255,0,0), 1)\n",
        "cv.line(resized_image, (left_eye_center_x, left_eye_center_y), (right_eye_center_x, right_eye_center_y),\n",
        "        (67,67,67), 1)\n",
        "\n",
        "plt.figure(figsize = (20,8))\n",
        "plt.imshow(resized_image)\n",
        "\n",
        "# finding the angle of rotation \n",
        "rotation_angle = None\n",
        "third_point = None\n",
        "\n",
        "if left_eye[1] > right_eye[1]:\n",
        "  print('This image is being rotated anti-clockise')\n",
        "  rotation_angle = 1\n",
        "  third_point = (left_eye[0], right_eye[1])\n",
        "  dist_a = euclidean_distance((left_eye_center_x, left_eye_center_y), \n",
        "                          (right_eye_center_x,right_eye_center_y))\n",
        "  dist_b = euclidean_distance((left_eye[0],left_eye[1]), third_point)\n",
        "  dist_c = euclidean_distance((right_eye[0], right_eye[1]), third_point)\n",
        "else:\n",
        "  print('this image is being rotated clockwise')\n",
        "  rotation_angle = -1\n",
        "  third_point = (right_eye[0], left_eye[1])\n",
        "  dist_a = euclidean_distance((left_eye_center_x, left_eye_center_y), \n",
        "                              (right_eye_center_x,right_eye_center_y))\n",
        "  dist_b = euclidean_distance((right_eye[0],right_eye[1]), third_point)\n",
        "  dist_c = euclidean_distance((left_eye[0], left_eye[1]), third_point)\n",
        "\n",
        "\n",
        "# apply cosine rule \n",
        "\n",
        "cos_a = (dist_b*dist_b + dist_c*dist_c - dist_a*dist_a)/(2*dist_b*dist_c)\n",
        "angle = np.arccos(cos_a)\n",
        "angle = (angle * 180) / math.pi\n",
        "\n",
        "if rotation_angle == -1:\n",
        "  angle = 90 - angle \n",
        "new_img = Image.fromarray(image_1)\n",
        "new_img = np.array(new_img.rotate(rotation_angle* angle))\n",
        "\n",
        "\n",
        "plt.figure(figsize = (20,8))\n",
        "plt.imshow(new_img)\n",
        "\n",
        "plt.figure(figsize = (20,8))\n",
        "plt.imshow(image_1_copy)"
      ],
      "metadata": {
        "id": "k5NylIakXRaM"
      },
      "execution_count": null,
      "outputs": []
    },
    {
      "cell_type": "markdown",
      "source": [
        "## Final trails "
      ],
      "metadata": {
        "id": "K6Hw_gb9HSyA"
      }
    },
    {
      "cell_type": "code",
      "source": [
        "def face_detector(counter, image_1, output_path,):\n",
        "\n",
        "  # convert to grayscale image \n",
        "  gray_image = cv.cvtColor(image_1, cv.COLOR_RGB2GRAY)\n",
        "\n",
        "  face_detect = dlib.get_frontal_face_detector()\n",
        "  # detect faces\n",
        "  detected_faces = face_detect(gray_image)\n",
        "\n",
        "  if len(detected_faces) == 0:\n",
        "    print('No frontal faces were found in the image number {}'.format(counter))\n",
        "    return False \n",
        "\n",
        "  else:\n",
        "    face_area_dict = {}\n",
        "    for counter, rect in enumerate(detected_faces):\n",
        "      \n",
        "      column = rect.left()\n",
        "      row = rect.top()\n",
        "      width  = rect.right() - column\n",
        "      height = rect.bottom() - row\n",
        "\n",
        "      area = width * height \n",
        "      face_area_dict[area] = (column, row, width, height)\n",
        "\n",
        "    max_area = max(face_area_dict.keys())\n",
        "    x, y, w, h = face_area_dict[max_area]\n",
        "    resized_image = image_1[y: y+h, x: x+w]\n",
        "    resampled_image = cv.resize(resized_image, (21,21), cv.INTER_CUBIC)\n",
        "    resized_gray = cv.cvtColor(resampled_image, cv.COLOR_RGB2GRAY)\n",
        "\n",
        "    cv.imwrite(output_path, resized_gray)\n",
        "    return True\n",
        "\n",
        "def process_images(base_file, output_dir, labels_path, l_out, sample_size):\n",
        "  base_file = base_file \n",
        "  output_dir = output_dir\n",
        "  \n",
        "  if not os.path.exists(output_dir):\n",
        "    os.makedirs(output_dir)\n",
        "\n",
        "  list_ims = sorted(os.listdir(base_file))\n",
        "\n",
        "  for counter, img in enumerate(list_ims):\n",
        "    if counter > sample_size:\n",
        "      print('Reached the end of the sample size')\n",
        "      break\n",
        "    else:\n",
        "      print('processing image number {} with name {}'.format(counter, img))\n",
        "      im = cv.imread(os.path.join(base_file, img))\n",
        "      output_path = os.path.join(output_dir, img)\n",
        "      result = face_detector(counter, im, output_path)\n",
        "      if result:\n",
        "        with open(labels_path, 'r') as d:\n",
        "          with open(l_out, 'a') as f:\n",
        "            lines = d.readlines()[1:]\n",
        "            for line in lines:\n",
        "              file_name = line.split('/')[0].split()[1]\n",
        "              gender = line.split('/')[0].split()[2]\n",
        "              if file_name == img:\n",
        "                f.write(line)\n",
        "                print('writing a line for file name {}'.format(img))\n",
        "              else:\n",
        "                continue\n",
        "  \n",
        "def get_data_2(path_x, path_y):\n",
        "\n",
        "  # x dataset\n",
        "  list_images = os.listdir(path_x)\n",
        "  X_data = [np.reshape(cv.imread(os.path.join(path_x, i), cv.IMREAD_GRAYSCALE)/255, (21*21,)) for i in list_images]\n",
        "  x_out = np.asarray(X_data)\n",
        "\n",
        "  # y dataset \n",
        "  columns = ['Image number', 'file name', 'Gender', 'smiling']\n",
        "  y_data = pd.read_csv(path_y, delimiter = '\\t', header = None, names = columns)\n",
        "  y_out = np.asarray(y_data['Gender'])\n",
        "  \n",
        "  x_train, y_train, x_test, y_test = train_test_split(x_out, y_out, test_size = 0.3, shuffle = True) \n",
        "\n",
        "  return x_train, y_train, x_test, y_test"
      ],
      "metadata": {
        "id": "X1lKAUljeolX"
      },
      "execution_count": null,
      "outputs": []
    },
    {
      "cell_type": "code",
      "source": [
        "base = '/content/drive/MyDrive/UCL_machine_learning_course /Assignment datasets/celeba/img'\n",
        "out =  '/content/drive/MyDrive/UCL_machine_learning_course /Assignment datasets/celeba(21 by 21)(large)'\n",
        "labels_path = '/content/drive/MyDrive/UCL_machine_learning_course /Assignment datasets/celeba/labels.csv'\n",
        "l_out = '/content/drive/MyDrive/UCL_machine_learning_course /Assignment datasets/celeba/labels_2(21 by 21)(large).csv'\n",
        "process_images(base, out, labels_path, l_out, 1500)"
      ],
      "metadata": {
        "id": "4cTXVvn0S2Fn"
      },
      "execution_count": null,
      "outputs": []
    },
    {
      "cell_type": "code",
      "source": [
        "# apply SVM to the large images with \n",
        "path_x = '/content/drive/MyDrive/UCL_machine_learning_course /Assignment datasets/celeba(21 by 21)(large)'\n",
        "path_y = '/content/drive/MyDrive/UCL_machine_learning_course /Assignment datasets/celeba/labels_2(21 by 21)(large).csv'\n",
        "x_train, x_test, y_train, y_test = get_data_2(path_x, path_y)"
      ],
      "metadata": {
        "id": "dT3vTtJW6inG"
      },
      "execution_count": null,
      "outputs": []
    },
    {
      "cell_type": "code",
      "source": [
        "# test with svm classifier \n",
        "model_1 = SVC(kernel = 'rbf', C = 1.0 , gamma = 'scale')\n",
        "model_1.fit(x_train, y_train)\n",
        "y_pred = model_1.predict(x_test)\n",
        "print(classification_report(y_test, y_pred))"
      ],
      "metadata": {
        "id": "-WHOV3I_aMQ_"
      },
      "execution_count": null,
      "outputs": []
    },
    {
      "cell_type": "markdown",
      "source": [
        "## Experiments"
      ],
      "metadata": {
        "id": "uFWuLbGLHFNm"
      }
    },
    {
      "cell_type": "code",
      "source": [
        "# apply principle component analysis \n",
        "\n",
        "def face_detector_2(image):\n",
        "\n",
        "  gray_scale = cv.cvtColor(image, cv.COLOR_RGB2GRAY)\n",
        "  faces_pca = PCA(n_components = 0.8)\n",
        "  faces_pca.fit(gray_scale)\n",
        "\n",
        "  return gray_scale\n",
        "\n",
        "path = '/content/drive/MyDrive/UCL_machine_learning_course /Assignment datasets/celeba/img'\n",
        "images = sorted(os.listdir('/content/drive/MyDrive/UCL_machine_learning_course /Assignment datasets/celeba/img'))\n",
        "\n",
        "img = cv.imread(os.path.join(path,images[5]))\n",
        "gray_scale = cv.cvtColor(img, cv.COLOR_RGB2GRAY)\n",
        "faces_pca = PCA(n_components = 21)\n",
        "resized_image = faces_pca.fit_transform(gray_scale)\n",
        "\n",
        "\n",
        "plt.figure(figsize = (20,8))\n",
        "plt.imshow(resized_image, cmap ='gray')"
      ],
      "metadata": {
        "id": "fvozYOxQofqX"
      },
      "execution_count": null,
      "outputs": []
    }
  ]
}