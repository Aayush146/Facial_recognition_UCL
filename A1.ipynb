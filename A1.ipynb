{
  "nbformat": 4,
  "nbformat_minor": 0,
  "metadata": {
    "colab": {
      "provenance": []
    },
    "kernelspec": {
      "name": "python3",
      "display_name": "Python 3"
    },
    "language_info": {
      "name": "python"
    }
  },
  "cells": [
    {
      "cell_type": "code",
      "execution_count": null,
      "metadata": {
        "id": "gvuTFJ5wWiYX"
      },
      "outputs": [],
      "source": [
        "import sklearn \n",
        "import numpy as np\n",
        "import tensorflow as tf\n",
        "import os\n",
        "import matplotlib.pyplot as plt\n",
        "\n",
        "# for SVM \n",
        "from sklearn.svm import SVC, LinearSVC\n",
        "from sklearn.model_selection import train_test_split, cross_val_score, GridSearchCV\n",
        "from sklearn.utils import shuffle\n",
        "from sklearn.metrics import classification_report, accuracy_score \n",
        "from sklearn.decomposition import PCA\n",
        "\n",
        "\n",
        "\n",
        "# viola jones \n",
        "import cv2 as cv\n",
        "import scipy\n",
        "import math\n",
        "import PIL\n",
        "from PIL import Image\n",
        "import pandas as pd\n",
        "\n",
        "# dlib detector \n",
        "import dlib\n",
        "from google.colab.patches import cv2_imshow"
      ]
    },
    {
      "cell_type": "code",
      "source": [
        "from collections import Counter\n",
        "with open('/content/drive/MyDrive/UCL_machine_learning_course /Assignment datasets/celeba/labels.csv', 'r') as d:\n",
        "  lines = d.readlines()[1:]\n",
        "  gender_list = []\n",
        "  for line in lines:\n",
        "    gender = line.split()[2]\n",
        "    gender_list.append(gender)\n",
        "\n",
        "  print(Counter(gender_list).values())\n",
        "  print(Counter(gender_list).keys())"
      ],
      "metadata": {
        "id": "cZNKA6jclJLE"
      },
      "execution_count": null,
      "outputs": []
    },
    {
      "cell_type": "markdown",
      "source": [
        "## Support vector machine classification "
      ],
      "metadata": {
        "id": "c3YXAq8UX01e"
      }
    },
    {
      "cell_type": "code",
      "source": [
        "def get_data():\n",
        "\n",
        "  X,y = lab2_landmarks.extract_features_labels()\n",
        "  y_1 = y.astype('int64')\n",
        "\n",
        "  X_1 = X.reshape((X.shape[0], X.shape[1]* X.shape[2]))\n",
        "\n",
        "  x_train = X_1[:100]\n",
        "  y_train = y_1[:100]\n",
        "  x_test = X_1[100:]\n",
        "  y_test = y_1[100:]\n",
        "\n",
        "  return x_train, y_train, x_test, y_test\n",
        "\n",
        "def model_training(model, x_train, y_train, x_test):\n",
        "\n",
        "  model.fit(x_train, y_train)\n",
        "  y_pred = model.predict(x_test)\n",
        "\n",
        "  return y_pred\n",
        "\n",
        "def calculate_results(y_pred, y_test):\n",
        "\n",
        "  accu = accuracy_score(y_test, y_pred)\n",
        "  results = classification_report(y_test, y_pred)\n",
        "\n",
        "  return accu, results \n",
        "\n"
      ],
      "metadata": {
        "id": "_i0gZym4X49l"
      },
      "execution_count": null,
      "outputs": []
    },
    {
      "cell_type": "markdown",
      "source": [
        "# SVM linear kernel "
      ],
      "metadata": {
        "id": "8-zf-RA7xR50"
      }
    },
    {
      "cell_type": "code",
      "source": [
        "x_train, y_train, x_test, y_test = get_data()\n",
        "model = SVC(kernel = 'linear', C = 1.0)\n",
        "y_pred = model_training(model, x_train, y_train, x_test)\n",
        "accu, _ = calculate_results(y_pred, y_test)"
      ],
      "metadata": {
        "id": "v4hUJlWYz1D9"
      },
      "execution_count": null,
      "outputs": []
    },
    {
      "cell_type": "markdown",
      "source": [
        "## SVC linear "
      ],
      "metadata": {
        "id": "J4aSREzGNxh6"
      }
    },
    {
      "cell_type": "code",
      "source": [
        "x_train, y_train, x_test, y_test = get_data()\n",
        "model = LinearSVC(C = 1.0)\n",
        "y_pred = model_training(model, x_train, y_train, x_test)\n",
        "accu, _ = calculate_results(y_pred, y_test)"
      ],
      "metadata": {
        "id": "asm3L0ZXN9Yc"
      },
      "execution_count": null,
      "outputs": []
    },
    {
      "cell_type": "code",
      "source": [
        "print(' the accuracy of this Linear SVC is {}%'.format(accu*100))\n",
        "results = classification_report(y_test, y_pred)\n",
        "print(results)"
      ],
      "metadata": {
        "id": "B2DSnvPsNzHy"
      },
      "execution_count": null,
      "outputs": []
    },
    {
      "cell_type": "markdown",
      "source": [
        "## SVM rbf kernels"
      ],
      "metadata": {
        "id": "arJUlXEP85Ov"
      }
    },
    {
      "cell_type": "code",
      "source": [
        "\n",
        "model_1 = SVC(kernel = 'rbf', C = 1.0, gamma = 'scale')\n",
        "y_pred = model_training(model_1, x_train, y_train, x_test)\n",
        "accu, _ = calculate_results(y_pred, y_test)\n",
        "print(' the accuracy of the rbf kernel is {}%'.format(accu *100))\n"
      ],
      "metadata": {
        "id": "nfV3RO1X9Irm"
      },
      "execution_count": null,
      "outputs": []
    },
    {
      "cell_type": "markdown",
      "source": [
        "## Poly kernel"
      ],
      "metadata": {
        "id": "cbC3eMLhO7O7"
      }
    },
    {
      "cell_type": "code",
      "source": [
        "x_train, y_train, x_test, y_test = get_data()\n",
        "model_2 = SVC(kernel = 'poly', C = 1.0, degree = 3)\n",
        "y_pred = model_training(model_2, x_train, y_train, x_test)\n",
        "accu, _ = calculate_results(y_pred, y_test)"
      ],
      "metadata": {
        "id": "_iGgcsfBO-To"
      },
      "execution_count": null,
      "outputs": []
    },
    {
      "cell_type": "code",
      "source": [
        "print(' the accurayc of the polynomial kernel SVM is {}'.format(accu *100))\n",
        "results = classification_report(y_test, y_pred)"
      ],
      "metadata": {
        "colab": {
          "base_uri": "https://localhost:8080/"
        },
        "id": "rMpVQ__OP2ho",
        "outputId": "93b5eb7b-5058-4877-931d-d6f0b552892d"
      },
      "execution_count": null,
      "outputs": [
        {
          "output_type": "stream",
          "name": "stdout",
          "text": [
            " the accurayc of the polynomial kernel SVM is 91.66666666666666\n"
          ]
        }
      ]
    },
    {
      "cell_type": "markdown",
      "source": [
        "## Haar cascade with face alignment"
      ],
      "metadata": {
        "id": "EHw3ibebXOcS"
      }
    },
    {
      "cell_type": "code",
      "source": [
        "def euclidean_distance(a, b):\n",
        "  x1 = a[0]; y1 = a[1]\n",
        "  x2 = b[0]; y2 = b[1]\n",
        "  return math.sqrt(((x2 - x1) * (x2 - x1)) + ((y2 - y1) * (y2 - y1)))"
      ],
      "metadata": {
        "id": "yifXjZmOg_pE"
      },
      "execution_count": null,
      "outputs": []
    },
    {
      "cell_type": "code",
      "source": [
        "# load image\n",
        "base_path = '/content/drive/MyDrive/UCL_machine_learning_course /Assignment datasets/celeba/img'\n",
        "images_list = os.listdir(base_path)\n",
        "image_path = os.path.join(base_path, images_list[7])\n",
        "image_1 = cv.imread(image_path)\n",
        "image_1_copy = image_1.copy()\n",
        "gray_image = cv.cvtColor(image_1, cv.COLOR_RGB2GRAY)\n",
        "\n",
        "# define the haar classifier\n",
        "face_cascade = cv.CascadeClassifier(cv.data.haarcascades + 'haarcascade_frontalface_alt2.xml')\n",
        "eyes_cascade = cv.CascadeClassifier(cv.data.haarcascades + 'haarcascade_eye.xml')\n",
        "\n",
        "# detect faces and focus in the region of interest \n",
        "detected_faces = face_cascade.detectMultiScale(gray_image, scaleFactor = 1.1, minNeighbors = 5)\n",
        "column, row, width, height = detected_faces[0]\n",
        "resized_image = image_1[row: row + height, column: column+ width]\n",
        "resized_gray = cv.cvtColor(resized_image, cv.COLOR_RGB2GRAY)\n",
        "\n",
        "# # detect eyes in region of interest \n",
        "detected_eyes = eyes_cascade.detectMultiScale(resized_gray, scaleFactor = 1.1, minNeighbors = 5)\n",
        "print(len(detected_eyes))\n",
        "#face realignment \n",
        "index = 0\n",
        "for count, (eye_x, eye_y, eye_w, eye_h) in enumerate(detected_eyes):\n",
        "  if index == 0:\n",
        "    eye_1 = (eye_x, eye_y, eye_w, eye_h)\n",
        "  elif index == 1:\n",
        "    eye_2 = (eye_x, eye_y, eye_w, eye_h)\n",
        "  index = index + 1\n",
        "\n",
        "if eye_1[0] < eye_2[0]:\n",
        "  left_eye = eye_1\n",
        "  right_eye = eye_2\n",
        "else:\n",
        "  left_eye = eye_2\n",
        "  right_eye = eye_1\n",
        "\n",
        "# get the centers o the yes for face realignment \n",
        "\n",
        "left_eye_center_x = int(left_eye[0] + left_eye[2]/2)\n",
        "left_eye_center_y = int(left_eye[1] + left_eye[3]/2)\n",
        "right_eye_center_x = int(right_eye[0] + right_eye[2]/2)\n",
        "right_eye_center_y = int(right_eye[1] + right_eye[3]/2)\n",
        "  \n",
        "cv.circle(resized_image, (left_eye_center_x, left_eye_center_y), 1, (255,0,0), 1)\n",
        "cv.circle(resized_image, (right_eye_center_x, right_eye_center_y), 1, (255,0,0), 1)\n",
        "cv.line(resized_image, (left_eye_center_x, left_eye_center_y), (right_eye_center_x, right_eye_center_y),\n",
        "        (67,67,67), 1)\n",
        "\n",
        "plt.figure(figsize = (20,8))\n",
        "plt.imshow(resized_image)\n",
        "\n",
        "# finding the angle of rotation \n",
        "rotation_angle = None\n",
        "third_point = None\n",
        "\n",
        "if left_eye[1] > right_eye[1]:\n",
        "  print('This image is being rotated anti-clockise')\n",
        "  rotation_angle = 1\n",
        "  third_point = (left_eye[0], right_eye[1])\n",
        "  dist_a = euclidean_distance((left_eye_center_x, left_eye_center_y), \n",
        "                          (right_eye_center_x,right_eye_center_y))\n",
        "  dist_b = euclidean_distance((left_eye[0],left_eye[1]), third_point)\n",
        "  dist_c = euclidean_distance((right_eye[0], right_eye[1]), third_point)\n",
        "else:\n",
        "  print('this image is being rotated clockwise')\n",
        "  rotation_angle = -1\n",
        "  third_point = (right_eye[0], left_eye[1])\n",
        "  dist_a = euclidean_distance((left_eye_center_x, left_eye_center_y), \n",
        "                              (right_eye_center_x,right_eye_center_y))\n",
        "  dist_b = euclidean_distance((right_eye[0],right_eye[1]), third_point)\n",
        "  dist_c = euclidean_distance((left_eye[0], left_eye[1]), third_point)\n",
        "\n",
        "\n",
        "# apply cosine rule \n",
        "\n",
        "cos_a = (dist_b*dist_b + dist_c*dist_c - dist_a*dist_a)/(2*dist_b*dist_c)\n",
        "angle = np.arccos(cos_a)\n",
        "angle = (angle * 180) / math.pi\n",
        "\n",
        "if rotation_angle == -1:\n",
        "  angle = 90 - angle \n",
        "new_img = Image.fromarray(image_1)\n",
        "new_img = np.array(new_img.rotate(rotation_angle* angle))\n",
        "\n",
        "\n",
        "plt.figure(figsize = (20,8))\n",
        "plt.imshow(new_img)\n",
        "\n",
        "plt.figure(figsize = (20,8))\n",
        "plt.imshow(image_1_copy)"
      ],
      "metadata": {
        "id": "k5NylIakXRaM"
      },
      "execution_count": null,
      "outputs": []
    },
    {
      "cell_type": "markdown",
      "source": [
        "## Final trails "
      ],
      "metadata": {
        "id": "K6Hw_gb9HSyA"
      }
    },
    {
      "cell_type": "code",
      "source": [
        "def face_detector(counter, image_1, output_path):\n",
        "\n",
        "  # convert to grayscale image \n",
        "  gray_image = cv.cvtColor(image_1, cv.COLOR_RGB2GRAY)\n",
        "\n",
        "  face_detect = dlib.get_frontal_face_detector()\n",
        "  # detect faces\n",
        "  detected_faces = face_detect(gray_image)\n",
        "\n",
        "  if len(detected_faces) == 0:\n",
        "    print('No frontal faces were found in the image number {}'.format(counter))\n",
        "    return False \n",
        "\n",
        "  else:\n",
        "    face_area_dict = {}\n",
        "    for counter, rect in enumerate(detected_faces):\n",
        "      \n",
        "      column = rect.left()\n",
        "      row = rect.top()\n",
        "      width  = rect.right() - column\n",
        "      height = rect.bottom() - row\n",
        "\n",
        "      area = width * height \n",
        "      face_area_dict[area] = (column, row, width, height)\n",
        "\n",
        "    max_area = max(face_area_dict.keys())\n",
        "    x, y, w, h = face_area_dict[max_area]\n",
        "    resized_image = image_1[y: y+h, x: x+w]\n",
        "    resampled_image = cv.resize(resized_image, (80,80), cv.INTER_CUBIC)\n",
        "    resized_gray = cv.cvtColor(resampled_image, cv.COLOR_RGB2GRAY)\n",
        "\n",
        "    cv.imwrite(output_path, resized_gray)\n",
        "    return True\n",
        "\n",
        "def process_images(base_file, output_dir, labels_path, l_out, sample_size):\n",
        "\n",
        "  base_file = base_file \n",
        "  output_dir = output_dir\n",
        "  \n",
        "  if not os.path.exists(output_dir):\n",
        "    os.makedirs(output_dir)\n",
        "\n",
        "  list_ims = sorted(os.listdir(base_file))\n",
        "\n",
        "  for counter, img in enumerate(list_ims[sample_size: 2*sample_size]):\n",
        "    if counter > sample_size:\n",
        "      print('Reached the end of the sample size')\n",
        "      break\n",
        "    else:\n",
        "      print('processing image number {} with name {}'.format(counter, img))\n",
        "      im = cv.imread(os.path.join(base_file, img))\n",
        "      output_path = os.path.join(output_dir, img)\n",
        "      result = face_detector(counter, im, output_path)\n",
        "      if result:\n",
        "        with open(labels_path, 'r') as d:\n",
        "          with open(l_out, 'a') as f:\n",
        "            lines = d.readlines()[1:]\n",
        "            for line in lines:\n",
        "              file_name = line.split('/')[0].split()[1]\n",
        "              if file_name == img:\n",
        "                f.write(line)\n",
        "                break\n",
        "              else:\n",
        "                continue\n",
        "\n",
        "      else:\n",
        "        continue \n",
        " \n",
        "def get_data_2(path_x, path_y, sm = False):\n",
        "\n",
        "  # x dataset\n",
        "  list_images = os.listdir(path_x)\n",
        "\n",
        "  X_data = [np.reshape(cv.imread(os.path.join(path_x, i), cv.IMREAD_GRAYSCALE)/255, (80*80,)) for i in list_images]\n",
        "  x_out = np.asarray(X_data)\n",
        "\n",
        "\n",
        "  # y dataset \n",
        "  columns = ['Image number', 'file name', 'Gender', 'smiling']\n",
        "  y_data = pd.read_csv(path_y, delimiter = '\\t', header = None, names = columns)\n",
        "  y_out = np.asarray(y_data['Gender'])\n",
        "  y_out_m = np.asarray(y_data['smiling'])\n",
        "\n",
        "  x_train, x_test, y_train, y_test = train_test_split(x_out[:1440], y_out, test_size = 0.3, shuffle = True) \n",
        "\n",
        "  return x_train, x_test, y_train, y_test\n",
        "\n",
        "def get_validation_set(x_train, y_train):\n",
        "\n",
        "  x_train_1, x_val, y_train_1, y_val = train_test_split(x_train, y_train, test_size = 0.3, shuffle = 0.3)\n",
        "\n",
        "  return x_train_1, x_val, y_train_1, y_val"
      ],
      "metadata": {
        "id": "X1lKAUljeolX"
      },
      "execution_count": null,
      "outputs": []
    },
    {
      "cell_type": "code",
      "source": [
        "base = '/content/drive/MyDrive/UCL_machine_learning_course /Assignment datasets/celeba/img'\n",
        "out =  '/content/drive/MyDrive/UCL_machine_learning_course /Assignment datasets/A1 datasets/celeba(80 by 80)(trial)'\n",
        "labels_path = '/content/drive/MyDrive/UCL_machine_learning_course /Assignment datasets/celeba/labels.csv'\n",
        "l_out = '/content/drive/MyDrive/UCL_machine_learning_course /Assignment datasets/A1 datasets/labels(80 by 80)(trial).csv'\n",
        "process_images(base, out, labels_path, l_out, 1500)"
      ],
      "metadata": {
        "id": "4cTXVvn0S2Fn"
      },
      "execution_count": null,
      "outputs": []
    },
    {
      "cell_type": "code",
      "source": [
        "# apply SVM to the large images with \n",
        "path_x = '/content/drive/MyDrive/UCL_machine_learning_course /Assignment datasets/celeba(80 by 80)(large)'\n",
        "path_y = '/content/drive/MyDrive/UCL_machine_learning_course /Assignment datasets/celeba/labels_2(80 by 80)(large).csv'\n",
        "x_train, x_test, y_train, y_test = get_data_2(path_x, path_y, sm = False)\n",
        "x_train_1, x_val, y_train_1, y_val = get_validation_set(x_train, y_train)"
      ],
      "metadata": {
        "id": "dT3vTtJW6inG"
      },
      "execution_count": null,
      "outputs": []
    },
    {
      "cell_type": "markdown",
      "source": [
        "## Experiments"
      ],
      "metadata": {
        "id": "uFWuLbGLHFNm"
      }
    },
    {
      "cell_type": "code",
      "source": [
        "# apply principle component analysis \n",
        "\n",
        "def face_detector_2(image):\n",
        "\n",
        "  gray_scale = cv.cvtColor(image, cv.COLOR_RGB2GRAY)\n",
        "  faces_pca = PCA(n_components = 0.8)\n",
        "  faces_pca.fit(gray_scale)\n",
        "\n",
        "  return gray_scale\n",
        "\n",
        "path = '/content/drive/MyDrive/UCL_machine_learning_course /Assignment datasets/celeba/img'\n",
        "images = sorted(os.listdir('/content/drive/MyDrive/UCL_machine_learning_course /Assignment datasets/celeba/img'))\n",
        "\n",
        "img = cv.imread(os.path.join(path,images[5]))\n",
        "gray_scale = cv.cvtColor(img, cv.COLOR_RGB2GRAY)\n",
        "faces_pca = PCA(n_components = 21)\n",
        "resized_image = faces_pca.fit_transform(gray_scale)\n",
        "\n",
        "\n",
        "plt.figure(figsize = (20,8))\n",
        "plt.imshow(resized_image, cmap ='gray')"
      ],
      "metadata": {
        "id": "fvozYOxQofqX"
      },
      "execution_count": null,
      "outputs": []
    },
    {
      "cell_type": "markdown",
      "source": [
        "## Hyper parameter selection "
      ],
      "metadata": {
        "id": "CLF2JtdwPtev"
      }
    },
    {
      "cell_type": "code",
      "source": [
        "mod = SVC()\n",
        "mod.fit(x_train, y_train)\n",
        "y_pred = mod.predict(x_train)\n",
        "print(classification_report(y_train, y_pred))"
      ],
      "metadata": {
        "id": "LodOz-9k34tK",
        "colab": {
          "base_uri": "https://localhost:8080/"
        },
        "outputId": "0d08bc21-84a8-40f2-bb96-d3eaeac88931"
      },
      "execution_count": null,
      "outputs": [
        {
          "output_type": "stream",
          "name": "stdout",
          "text": [
            "              precision    recall  f1-score   support\n",
            "\n",
            "          -1       0.66      1.00      0.79       593\n",
            "           1       0.99      0.27      0.42       415\n",
            "\n",
            "    accuracy                           0.70      1008\n",
            "   macro avg       0.83      0.63      0.61      1008\n",
            "weighted avg       0.80      0.70      0.64      1008\n",
            "\n"
          ]
        }
      ]
    },
    {
      "cell_type": "code",
      "source": [
        "# C paramter, kernel and gama optimization ubsing grid search\n",
        "# with 5 fold cross validation \n",
        "\n",
        "param_grid = {'C': [0.1, 0.2, 0.3, 0.4, 0.5, 0.6, 0.7, 0.8, 0.9, 1, 1.5],\n",
        "              'gamma': ['scale', 'auto'],\n",
        "              'kernel': ['rbf', 'poly', 'sigmoid', 'linear']} \n",
        "\n",
        "grid = GridSearchCV(mod, param_grid, refit = True, verbose = 3, scoring = 'accuracy')\n",
        "\n",
        "\n",
        "# fitting the model for grid search\n",
        "grid.fit(x_val, y_val)\n",
        "allscores= grid.cv_results_['mean_test_score']\n",
        "print(allscores)"
      ],
      "metadata": {
        "id": "Eq2f2aYPQX_c",
        "colab": {
          "base_uri": "https://localhost:8080/"
        },
        "outputId": "a14b7f7e-3edb-4642-e3d1-b9d57eea459b"
      },
      "execution_count": null,
      "outputs": [
        {
          "output_type": "stream",
          "name": "stdout",
          "text": [
            "Fitting 5 folds for each of 88 candidates, totalling 440 fits\n",
            "[CV 1/5] END ....C=0.1, gamma=scale, kernel=rbf;, score=0.557 total time=   0.3s\n",
            "[CV 2/5] END ....C=0.1, gamma=scale, kernel=rbf;, score=0.557 total time=   0.3s\n",
            "[CV 3/5] END ....C=0.1, gamma=scale, kernel=rbf;, score=0.557 total time=   0.3s\n",
            "[CV 4/5] END ....C=0.1, gamma=scale, kernel=rbf;, score=0.567 total time=   0.3s\n",
            "[CV 5/5] END ....C=0.1, gamma=scale, kernel=rbf;, score=0.567 total time=   0.4s\n",
            "[CV 1/5] END ...C=0.1, gamma=scale, kernel=poly;, score=0.508 total time=   0.3s\n",
            "[CV 2/5] END ...C=0.1, gamma=scale, kernel=poly;, score=0.639 total time=   0.3s\n",
            "[CV 3/5] END ...C=0.1, gamma=scale, kernel=poly;, score=0.492 total time=   0.2s\n",
            "[CV 4/5] END ...C=0.1, gamma=scale, kernel=poly;, score=0.500 total time=   0.2s\n",
            "[CV 5/5] END ...C=0.1, gamma=scale, kernel=poly;, score=0.517 total time=   0.2s\n",
            "[CV 1/5] END C=0.1, gamma=scale, kernel=sigmoid;, score=0.557 total time=   0.2s\n",
            "[CV 2/5] END C=0.1, gamma=scale, kernel=sigmoid;, score=0.557 total time=   0.2s\n",
            "[CV 3/5] END C=0.1, gamma=scale, kernel=sigmoid;, score=0.557 total time=   0.2s\n",
            "[CV 4/5] END C=0.1, gamma=scale, kernel=sigmoid;, score=0.567 total time=   0.2s\n",
            "[CV 5/5] END C=0.1, gamma=scale, kernel=sigmoid;, score=0.567 total time=   0.2s\n",
            "[CV 1/5] END .C=0.1, gamma=scale, kernel=linear;, score=0.443 total time=   0.2s\n",
            "[CV 2/5] END .C=0.1, gamma=scale, kernel=linear;, score=0.590 total time=   0.2s\n",
            "[CV 3/5] END .C=0.1, gamma=scale, kernel=linear;, score=0.525 total time=   0.3s\n",
            "[CV 4/5] END .C=0.1, gamma=scale, kernel=linear;, score=0.467 total time=   0.3s\n",
            "[CV 5/5] END .C=0.1, gamma=scale, kernel=linear;, score=0.500 total time=   0.3s\n",
            "[CV 1/5] END .....C=0.1, gamma=auto, kernel=rbf;, score=0.557 total time=   0.3s\n",
            "[CV 2/5] END .....C=0.1, gamma=auto, kernel=rbf;, score=0.557 total time=   0.2s\n",
            "[CV 3/5] END .....C=0.1, gamma=auto, kernel=rbf;, score=0.557 total time=   0.2s\n",
            "[CV 4/5] END .....C=0.1, gamma=auto, kernel=rbf;, score=0.567 total time=   0.2s\n",
            "[CV 5/5] END .....C=0.1, gamma=auto, kernel=rbf;, score=0.567 total time=   0.2s\n",
            "[CV 1/5] END ....C=0.1, gamma=auto, kernel=poly;, score=0.557 total time=   0.2s\n",
            "[CV 2/5] END ....C=0.1, gamma=auto, kernel=poly;, score=0.557 total time=   0.3s\n",
            "[CV 3/5] END ....C=0.1, gamma=auto, kernel=poly;, score=0.557 total time=   0.3s\n",
            "[CV 4/5] END ....C=0.1, gamma=auto, kernel=poly;, score=0.567 total time=   0.3s\n",
            "[CV 5/5] END ....C=0.1, gamma=auto, kernel=poly;, score=0.567 total time=   0.3s\n",
            "[CV 1/5] END .C=0.1, gamma=auto, kernel=sigmoid;, score=0.557 total time=   0.2s\n",
            "[CV 2/5] END .C=0.1, gamma=auto, kernel=sigmoid;, score=0.557 total time=   0.3s\n",
            "[CV 3/5] END .C=0.1, gamma=auto, kernel=sigmoid;, score=0.557 total time=   0.3s\n",
            "[CV 4/5] END .C=0.1, gamma=auto, kernel=sigmoid;, score=0.567 total time=   0.3s\n",
            "[CV 5/5] END .C=0.1, gamma=auto, kernel=sigmoid;, score=0.567 total time=   0.3s\n",
            "[CV 1/5] END ..C=0.1, gamma=auto, kernel=linear;, score=0.443 total time=   0.3s\n",
            "[CV 2/5] END ..C=0.1, gamma=auto, kernel=linear;, score=0.590 total time=   0.3s\n",
            "[CV 3/5] END ..C=0.1, gamma=auto, kernel=linear;, score=0.525 total time=   0.2s\n",
            "[CV 4/5] END ..C=0.1, gamma=auto, kernel=linear;, score=0.467 total time=   0.3s\n",
            "[CV 5/5] END ..C=0.1, gamma=auto, kernel=linear;, score=0.500 total time=   0.3s\n",
            "[CV 1/5] END ....C=0.2, gamma=scale, kernel=rbf;, score=0.557 total time=   0.3s\n",
            "[CV 2/5] END ....C=0.2, gamma=scale, kernel=rbf;, score=0.557 total time=   0.3s\n",
            "[CV 3/5] END ....C=0.2, gamma=scale, kernel=rbf;, score=0.557 total time=   0.3s\n",
            "[CV 4/5] END ....C=0.2, gamma=scale, kernel=rbf;, score=0.567 total time=   0.3s\n",
            "[CV 5/5] END ....C=0.2, gamma=scale, kernel=rbf;, score=0.567 total time=   0.3s\n",
            "[CV 1/5] END ...C=0.2, gamma=scale, kernel=poly;, score=0.492 total time=   0.3s\n",
            "[CV 2/5] END ...C=0.2, gamma=scale, kernel=poly;, score=0.607 total time=   0.3s\n",
            "[CV 3/5] END ...C=0.2, gamma=scale, kernel=poly;, score=0.475 total time=   0.3s\n",
            "[CV 4/5] END ...C=0.2, gamma=scale, kernel=poly;, score=0.483 total time=   0.3s\n",
            "[CV 5/5] END ...C=0.2, gamma=scale, kernel=poly;, score=0.533 total time=   0.3s\n",
            "[CV 1/5] END C=0.2, gamma=scale, kernel=sigmoid;, score=0.557 total time=   0.2s\n",
            "[CV 2/5] END C=0.2, gamma=scale, kernel=sigmoid;, score=0.557 total time=   0.3s\n",
            "[CV 3/5] END C=0.2, gamma=scale, kernel=sigmoid;, score=0.557 total time=   0.2s\n",
            "[CV 4/5] END C=0.2, gamma=scale, kernel=sigmoid;, score=0.567 total time=   0.3s\n",
            "[CV 5/5] END C=0.2, gamma=scale, kernel=sigmoid;, score=0.567 total time=   0.3s\n",
            "[CV 1/5] END .C=0.2, gamma=scale, kernel=linear;, score=0.475 total time=   0.3s\n",
            "[CV 2/5] END .C=0.2, gamma=scale, kernel=linear;, score=0.541 total time=   0.2s\n",
            "[CV 3/5] END .C=0.2, gamma=scale, kernel=linear;, score=0.459 total time=   0.3s\n",
            "[CV 4/5] END .C=0.2, gamma=scale, kernel=linear;, score=0.467 total time=   0.3s\n",
            "[CV 5/5] END .C=0.2, gamma=scale, kernel=linear;, score=0.483 total time=   0.2s\n",
            "[CV 1/5] END .....C=0.2, gamma=auto, kernel=rbf;, score=0.557 total time=   0.2s\n",
            "[CV 2/5] END .....C=0.2, gamma=auto, kernel=rbf;, score=0.557 total time=   0.2s\n",
            "[CV 3/5] END .....C=0.2, gamma=auto, kernel=rbf;, score=0.557 total time=   0.2s\n",
            "[CV 4/5] END .....C=0.2, gamma=auto, kernel=rbf;, score=0.567 total time=   0.2s\n",
            "[CV 5/5] END .....C=0.2, gamma=auto, kernel=rbf;, score=0.567 total time=   0.2s\n",
            "[CV 1/5] END ....C=0.2, gamma=auto, kernel=poly;, score=0.557 total time=   0.2s\n",
            "[CV 2/5] END ....C=0.2, gamma=auto, kernel=poly;, score=0.557 total time=   0.2s\n",
            "[CV 3/5] END ....C=0.2, gamma=auto, kernel=poly;, score=0.557 total time=   0.2s\n",
            "[CV 4/5] END ....C=0.2, gamma=auto, kernel=poly;, score=0.567 total time=   0.2s\n",
            "[CV 5/5] END ....C=0.2, gamma=auto, kernel=poly;, score=0.567 total time=   0.2s\n",
            "[CV 1/5] END .C=0.2, gamma=auto, kernel=sigmoid;, score=0.557 total time=   0.2s\n",
            "[CV 2/5] END .C=0.2, gamma=auto, kernel=sigmoid;, score=0.557 total time=   0.2s\n",
            "[CV 3/5] END .C=0.2, gamma=auto, kernel=sigmoid;, score=0.557 total time=   0.2s\n",
            "[CV 4/5] END .C=0.2, gamma=auto, kernel=sigmoid;, score=0.567 total time=   0.2s\n",
            "[CV 5/5] END .C=0.2, gamma=auto, kernel=sigmoid;, score=0.567 total time=   0.2s\n",
            "[CV 1/5] END ..C=0.2, gamma=auto, kernel=linear;, score=0.475 total time=   0.2s\n",
            "[CV 2/5] END ..C=0.2, gamma=auto, kernel=linear;, score=0.541 total time=   0.2s\n",
            "[CV 3/5] END ..C=0.2, gamma=auto, kernel=linear;, score=0.459 total time=   0.3s\n",
            "[CV 4/5] END ..C=0.2, gamma=auto, kernel=linear;, score=0.467 total time=   0.2s\n",
            "[CV 5/5] END ..C=0.2, gamma=auto, kernel=linear;, score=0.483 total time=   0.2s\n",
            "[CV 1/5] END ....C=0.3, gamma=scale, kernel=rbf;, score=0.557 total time=   0.2s\n",
            "[CV 2/5] END ....C=0.3, gamma=scale, kernel=rbf;, score=0.557 total time=   0.3s\n",
            "[CV 3/5] END ....C=0.3, gamma=scale, kernel=rbf;, score=0.557 total time=   0.3s\n",
            "[CV 4/5] END ....C=0.3, gamma=scale, kernel=rbf;, score=0.567 total time=   0.3s\n",
            "[CV 5/5] END ....C=0.3, gamma=scale, kernel=rbf;, score=0.567 total time=   0.3s\n",
            "[CV 1/5] END ...C=0.3, gamma=scale, kernel=poly;, score=0.443 total time=   0.2s\n",
            "[CV 2/5] END ...C=0.3, gamma=scale, kernel=poly;, score=0.623 total time=   0.2s\n",
            "[CV 3/5] END ...C=0.3, gamma=scale, kernel=poly;, score=0.426 total time=   0.2s\n",
            "[CV 4/5] END ...C=0.3, gamma=scale, kernel=poly;, score=0.500 total time=   0.2s\n",
            "[CV 5/5] END ...C=0.3, gamma=scale, kernel=poly;, score=0.600 total time=   0.2s\n",
            "[CV 1/5] END C=0.3, gamma=scale, kernel=sigmoid;, score=0.557 total time=   0.2s\n",
            "[CV 2/5] END C=0.3, gamma=scale, kernel=sigmoid;, score=0.557 total time=   0.3s\n",
            "[CV 3/5] END C=0.3, gamma=scale, kernel=sigmoid;, score=0.557 total time=   0.3s\n",
            "[CV 4/5] END C=0.3, gamma=scale, kernel=sigmoid;, score=0.567 total time=   0.3s\n",
            "[CV 5/5] END C=0.3, gamma=scale, kernel=sigmoid;, score=0.567 total time=   0.2s\n",
            "[CV 1/5] END .C=0.3, gamma=scale, kernel=linear;, score=0.475 total time=   0.2s\n",
            "[CV 2/5] END .C=0.3, gamma=scale, kernel=linear;, score=0.541 total time=   0.2s\n",
            "[CV 3/5] END .C=0.3, gamma=scale, kernel=linear;, score=0.459 total time=   0.2s\n",
            "[CV 4/5] END .C=0.3, gamma=scale, kernel=linear;, score=0.467 total time=   0.2s\n",
            "[CV 5/5] END .C=0.3, gamma=scale, kernel=linear;, score=0.467 total time=   0.2s\n",
            "[CV 1/5] END .....C=0.3, gamma=auto, kernel=rbf;, score=0.557 total time=   0.2s\n",
            "[CV 2/5] END .....C=0.3, gamma=auto, kernel=rbf;, score=0.557 total time=   0.2s\n",
            "[CV 3/5] END .....C=0.3, gamma=auto, kernel=rbf;, score=0.557 total time=   0.2s\n",
            "[CV 4/5] END .....C=0.3, gamma=auto, kernel=rbf;, score=0.567 total time=   0.2s\n",
            "[CV 5/5] END .....C=0.3, gamma=auto, kernel=rbf;, score=0.567 total time=   0.2s\n",
            "[CV 1/5] END ....C=0.3, gamma=auto, kernel=poly;, score=0.557 total time=   0.2s\n",
            "[CV 2/5] END ....C=0.3, gamma=auto, kernel=poly;, score=0.557 total time=   0.2s\n",
            "[CV 3/5] END ....C=0.3, gamma=auto, kernel=poly;, score=0.557 total time=   0.2s\n",
            "[CV 4/5] END ....C=0.3, gamma=auto, kernel=poly;, score=0.567 total time=   0.2s\n",
            "[CV 5/5] END ....C=0.3, gamma=auto, kernel=poly;, score=0.567 total time=   0.2s\n",
            "[CV 1/5] END .C=0.3, gamma=auto, kernel=sigmoid;, score=0.557 total time=   0.2s\n",
            "[CV 2/5] END .C=0.3, gamma=auto, kernel=sigmoid;, score=0.557 total time=   0.2s\n",
            "[CV 3/5] END .C=0.3, gamma=auto, kernel=sigmoid;, score=0.557 total time=   0.2s\n",
            "[CV 4/5] END .C=0.3, gamma=auto, kernel=sigmoid;, score=0.567 total time=   0.2s\n",
            "[CV 5/5] END .C=0.3, gamma=auto, kernel=sigmoid;, score=0.567 total time=   0.2s\n",
            "[CV 1/5] END ..C=0.3, gamma=auto, kernel=linear;, score=0.475 total time=   0.2s\n",
            "[CV 2/5] END ..C=0.3, gamma=auto, kernel=linear;, score=0.541 total time=   0.2s\n",
            "[CV 3/5] END ..C=0.3, gamma=auto, kernel=linear;, score=0.459 total time=   0.3s\n",
            "[CV 4/5] END ..C=0.3, gamma=auto, kernel=linear;, score=0.467 total time=   0.2s\n",
            "[CV 5/5] END ..C=0.3, gamma=auto, kernel=linear;, score=0.467 total time=   0.2s\n",
            "[CV 1/5] END ....C=0.4, gamma=scale, kernel=rbf;, score=0.557 total time=   0.2s\n",
            "[CV 2/5] END ....C=0.4, gamma=scale, kernel=rbf;, score=0.557 total time=   0.3s\n",
            "[CV 3/5] END ....C=0.4, gamma=scale, kernel=rbf;, score=0.557 total time=   0.3s\n",
            "[CV 4/5] END ....C=0.4, gamma=scale, kernel=rbf;, score=0.567 total time=   0.3s\n",
            "[CV 5/5] END ....C=0.4, gamma=scale, kernel=rbf;, score=0.567 total time=   0.3s\n",
            "[CV 1/5] END ...C=0.4, gamma=scale, kernel=poly;, score=0.475 total time=   0.2s\n",
            "[CV 2/5] END ...C=0.4, gamma=scale, kernel=poly;, score=0.639 total time=   0.2s\n",
            "[CV 3/5] END ...C=0.4, gamma=scale, kernel=poly;, score=0.459 total time=   0.2s\n",
            "[CV 4/5] END ...C=0.4, gamma=scale, kernel=poly;, score=0.483 total time=   0.2s\n",
            "[CV 5/5] END ...C=0.4, gamma=scale, kernel=poly;, score=0.600 total time=   0.2s\n",
            "[CV 1/5] END C=0.4, gamma=scale, kernel=sigmoid;, score=0.557 total time=   0.2s\n",
            "[CV 2/5] END C=0.4, gamma=scale, kernel=sigmoid;, score=0.557 total time=   0.2s\n",
            "[CV 3/5] END C=0.4, gamma=scale, kernel=sigmoid;, score=0.557 total time=   0.2s\n",
            "[CV 4/5] END C=0.4, gamma=scale, kernel=sigmoid;, score=0.567 total time=   0.3s\n",
            "[CV 5/5] END C=0.4, gamma=scale, kernel=sigmoid;, score=0.567 total time=   0.3s\n",
            "[CV 1/5] END .C=0.4, gamma=scale, kernel=linear;, score=0.475 total time=   0.3s\n",
            "[CV 2/5] END .C=0.4, gamma=scale, kernel=linear;, score=0.525 total time=   0.2s\n",
            "[CV 3/5] END .C=0.4, gamma=scale, kernel=linear;, score=0.459 total time=   0.2s\n",
            "[CV 4/5] END .C=0.4, gamma=scale, kernel=linear;, score=0.483 total time=   0.2s\n",
            "[CV 5/5] END .C=0.4, gamma=scale, kernel=linear;, score=0.467 total time=   0.3s\n",
            "[CV 1/5] END .....C=0.4, gamma=auto, kernel=rbf;, score=0.557 total time=   0.3s\n",
            "[CV 2/5] END .....C=0.4, gamma=auto, kernel=rbf;, score=0.557 total time=   0.3s\n",
            "[CV 3/5] END .....C=0.4, gamma=auto, kernel=rbf;, score=0.557 total time=   0.3s\n",
            "[CV 4/5] END .....C=0.4, gamma=auto, kernel=rbf;, score=0.567 total time=   0.4s\n",
            "[CV 5/5] END .....C=0.4, gamma=auto, kernel=rbf;, score=0.567 total time=   0.5s\n",
            "[CV 1/5] END ....C=0.4, gamma=auto, kernel=poly;, score=0.557 total time=   0.3s\n",
            "[CV 2/5] END ....C=0.4, gamma=auto, kernel=poly;, score=0.557 total time=   0.2s\n",
            "[CV 3/5] END ....C=0.4, gamma=auto, kernel=poly;, score=0.557 total time=   0.3s\n",
            "[CV 4/5] END ....C=0.4, gamma=auto, kernel=poly;, score=0.567 total time=   0.2s\n",
            "[CV 5/5] END ....C=0.4, gamma=auto, kernel=poly;, score=0.567 total time=   0.2s\n",
            "[CV 1/5] END .C=0.4, gamma=auto, kernel=sigmoid;, score=0.557 total time=   0.2s\n",
            "[CV 2/5] END .C=0.4, gamma=auto, kernel=sigmoid;, score=0.557 total time=   0.2s\n",
            "[CV 3/5] END .C=0.4, gamma=auto, kernel=sigmoid;, score=0.557 total time=   0.2s\n",
            "[CV 4/5] END .C=0.4, gamma=auto, kernel=sigmoid;, score=0.567 total time=   0.5s\n",
            "[CV 5/5] END .C=0.4, gamma=auto, kernel=sigmoid;, score=0.567 total time=   0.8s\n",
            "[CV 1/5] END ..C=0.4, gamma=auto, kernel=linear;, score=0.475 total time=   0.3s\n",
            "[CV 2/5] END ..C=0.4, gamma=auto, kernel=linear;, score=0.525 total time=   0.2s\n",
            "[CV 3/5] END ..C=0.4, gamma=auto, kernel=linear;, score=0.459 total time=   0.5s\n",
            "[CV 4/5] END ..C=0.4, gamma=auto, kernel=linear;, score=0.483 total time=   0.4s\n",
            "[CV 5/5] END ..C=0.4, gamma=auto, kernel=linear;, score=0.467 total time=   0.4s\n",
            "[CV 1/5] END ....C=0.5, gamma=scale, kernel=rbf;, score=0.557 total time=   0.5s\n",
            "[CV 2/5] END ....C=0.5, gamma=scale, kernel=rbf;, score=0.557 total time=   0.7s\n",
            "[CV 3/5] END ....C=0.5, gamma=scale, kernel=rbf;, score=0.557 total time=   0.7s\n",
            "[CV 4/5] END ....C=0.5, gamma=scale, kernel=rbf;, score=0.567 total time=   0.8s\n",
            "[CV 5/5] END ....C=0.5, gamma=scale, kernel=rbf;, score=0.567 total time=   0.4s\n",
            "[CV 1/5] END ...C=0.5, gamma=scale, kernel=poly;, score=0.492 total time=   0.5s\n",
            "[CV 2/5] END ...C=0.5, gamma=scale, kernel=poly;, score=0.639 total time=   0.4s\n",
            "[CV 3/5] END ...C=0.5, gamma=scale, kernel=poly;, score=0.459 total time=   0.5s\n",
            "[CV 4/5] END ...C=0.5, gamma=scale, kernel=poly;, score=0.533 total time=   0.5s\n",
            "[CV 5/5] END ...C=0.5, gamma=scale, kernel=poly;, score=0.600 total time=   0.6s\n",
            "[CV 1/5] END C=0.5, gamma=scale, kernel=sigmoid;, score=0.557 total time=   0.5s\n",
            "[CV 2/5] END C=0.5, gamma=scale, kernel=sigmoid;, score=0.557 total time=   0.3s\n",
            "[CV 3/5] END C=0.5, gamma=scale, kernel=sigmoid;, score=0.557 total time=   0.3s\n",
            "[CV 4/5] END C=0.5, gamma=scale, kernel=sigmoid;, score=0.567 total time=   0.4s\n",
            "[CV 5/5] END C=0.5, gamma=scale, kernel=sigmoid;, score=0.567 total time=   0.3s\n",
            "[CV 1/5] END .C=0.5, gamma=scale, kernel=linear;, score=0.475 total time=   0.3s\n",
            "[CV 2/5] END .C=0.5, gamma=scale, kernel=linear;, score=0.525 total time=   0.3s\n",
            "[CV 3/5] END .C=0.5, gamma=scale, kernel=linear;, score=0.459 total time=   0.4s\n",
            "[CV 4/5] END .C=0.5, gamma=scale, kernel=linear;, score=0.483 total time=   0.3s\n",
            "[CV 5/5] END .C=0.5, gamma=scale, kernel=linear;, score=0.467 total time=   0.4s\n",
            "[CV 1/5] END .....C=0.5, gamma=auto, kernel=rbf;, score=0.557 total time=   0.3s\n",
            "[CV 2/5] END .....C=0.5, gamma=auto, kernel=rbf;, score=0.557 total time=   0.4s\n",
            "[CV 3/5] END .....C=0.5, gamma=auto, kernel=rbf;, score=0.557 total time=   0.4s\n",
            "[CV 4/5] END .....C=0.5, gamma=auto, kernel=rbf;, score=0.567 total time=   0.3s\n",
            "[CV 5/5] END .....C=0.5, gamma=auto, kernel=rbf;, score=0.567 total time=   0.3s\n",
            "[CV 1/5] END ....C=0.5, gamma=auto, kernel=poly;, score=0.557 total time=   0.2s\n",
            "[CV 2/5] END ....C=0.5, gamma=auto, kernel=poly;, score=0.557 total time=   0.3s\n",
            "[CV 3/5] END ....C=0.5, gamma=auto, kernel=poly;, score=0.557 total time=   0.3s\n",
            "[CV 4/5] END ....C=0.5, gamma=auto, kernel=poly;, score=0.567 total time=   0.6s\n",
            "[CV 5/5] END ....C=0.5, gamma=auto, kernel=poly;, score=0.567 total time=   0.4s\n",
            "[CV 1/5] END .C=0.5, gamma=auto, kernel=sigmoid;, score=0.557 total time=   0.5s\n",
            "[CV 2/5] END .C=0.5, gamma=auto, kernel=sigmoid;, score=0.557 total time=   0.3s\n",
            "[CV 3/5] END .C=0.5, gamma=auto, kernel=sigmoid;, score=0.557 total time=   0.2s\n",
            "[CV 4/5] END .C=0.5, gamma=auto, kernel=sigmoid;, score=0.567 total time=   0.3s\n",
            "[CV 5/5] END .C=0.5, gamma=auto, kernel=sigmoid;, score=0.567 total time=   0.3s\n",
            "[CV 1/5] END ..C=0.5, gamma=auto, kernel=linear;, score=0.475 total time=   1.0s\n",
            "[CV 2/5] END ..C=0.5, gamma=auto, kernel=linear;, score=0.525 total time=   0.5s\n",
            "[CV 3/5] END ..C=0.5, gamma=auto, kernel=linear;, score=0.459 total time=   0.2s\n",
            "[CV 4/5] END ..C=0.5, gamma=auto, kernel=linear;, score=0.483 total time=   0.3s\n",
            "[CV 5/5] END ..C=0.5, gamma=auto, kernel=linear;, score=0.467 total time=   0.3s\n",
            "[CV 1/5] END ....C=0.6, gamma=scale, kernel=rbf;, score=0.541 total time=   0.3s\n",
            "[CV 2/5] END ....C=0.6, gamma=scale, kernel=rbf;, score=0.557 total time=   0.4s\n",
            "[CV 3/5] END ....C=0.6, gamma=scale, kernel=rbf;, score=0.508 total time=   0.5s\n",
            "[CV 4/5] END ....C=0.6, gamma=scale, kernel=rbf;, score=0.567 total time=   0.4s\n",
            "[CV 5/5] END ....C=0.6, gamma=scale, kernel=rbf;, score=0.583 total time=   0.4s\n",
            "[CV 1/5] END ...C=0.6, gamma=scale, kernel=poly;, score=0.492 total time=   0.3s\n",
            "[CV 2/5] END ...C=0.6, gamma=scale, kernel=poly;, score=0.672 total time=   0.3s\n",
            "[CV 3/5] END ...C=0.6, gamma=scale, kernel=poly;, score=0.459 total time=   0.3s\n",
            "[CV 4/5] END ...C=0.6, gamma=scale, kernel=poly;, score=0.533 total time=   0.2s\n",
            "[CV 5/5] END ...C=0.6, gamma=scale, kernel=poly;, score=0.583 total time=   0.2s\n",
            "[CV 1/5] END C=0.6, gamma=scale, kernel=sigmoid;, score=0.574 total time=   0.2s\n",
            "[CV 2/5] END C=0.6, gamma=scale, kernel=sigmoid;, score=0.557 total time=   0.2s\n",
            "[CV 3/5] END C=0.6, gamma=scale, kernel=sigmoid;, score=0.557 total time=   0.2s\n",
            "[CV 4/5] END C=0.6, gamma=scale, kernel=sigmoid;, score=0.567 total time=   0.2s\n",
            "[CV 5/5] END C=0.6, gamma=scale, kernel=sigmoid;, score=0.567 total time=   0.2s\n",
            "[CV 1/5] END .C=0.6, gamma=scale, kernel=linear;, score=0.475 total time=   0.2s\n",
            "[CV 2/5] END .C=0.6, gamma=scale, kernel=linear;, score=0.525 total time=   0.2s\n",
            "[CV 3/5] END .C=0.6, gamma=scale, kernel=linear;, score=0.459 total time=   0.2s\n",
            "[CV 4/5] END .C=0.6, gamma=scale, kernel=linear;, score=0.483 total time=   0.2s\n",
            "[CV 5/5] END .C=0.6, gamma=scale, kernel=linear;, score=0.467 total time=   0.2s\n",
            "[CV 1/5] END .....C=0.6, gamma=auto, kernel=rbf;, score=0.557 total time=   0.3s\n",
            "[CV 2/5] END .....C=0.6, gamma=auto, kernel=rbf;, score=0.557 total time=   0.3s\n",
            "[CV 3/5] END .....C=0.6, gamma=auto, kernel=rbf;, score=0.557 total time=   0.3s\n",
            "[CV 4/5] END .....C=0.6, gamma=auto, kernel=rbf;, score=0.567 total time=   0.3s\n",
            "[CV 5/5] END .....C=0.6, gamma=auto, kernel=rbf;, score=0.567 total time=   0.2s\n",
            "[CV 1/5] END ....C=0.6, gamma=auto, kernel=poly;, score=0.557 total time=   0.2s\n",
            "[CV 2/5] END ....C=0.6, gamma=auto, kernel=poly;, score=0.557 total time=   0.2s\n",
            "[CV 3/5] END ....C=0.6, gamma=auto, kernel=poly;, score=0.557 total time=   0.2s\n",
            "[CV 4/5] END ....C=0.6, gamma=auto, kernel=poly;, score=0.567 total time=   0.2s\n",
            "[CV 5/5] END ....C=0.6, gamma=auto, kernel=poly;, score=0.567 total time=   0.2s\n",
            "[CV 1/5] END .C=0.6, gamma=auto, kernel=sigmoid;, score=0.557 total time=   0.2s\n",
            "[CV 2/5] END .C=0.6, gamma=auto, kernel=sigmoid;, score=0.557 total time=   0.2s\n",
            "[CV 3/5] END .C=0.6, gamma=auto, kernel=sigmoid;, score=0.557 total time=   0.2s\n",
            "[CV 4/5] END .C=0.6, gamma=auto, kernel=sigmoid;, score=0.567 total time=   0.2s\n",
            "[CV 5/5] END .C=0.6, gamma=auto, kernel=sigmoid;, score=0.567 total time=   0.2s\n",
            "[CV 1/5] END ..C=0.6, gamma=auto, kernel=linear;, score=0.475 total time=   0.2s\n",
            "[CV 2/5] END ..C=0.6, gamma=auto, kernel=linear;, score=0.525 total time=   0.2s\n",
            "[CV 3/5] END ..C=0.6, gamma=auto, kernel=linear;, score=0.459 total time=   0.2s\n",
            "[CV 4/5] END ..C=0.6, gamma=auto, kernel=linear;, score=0.483 total time=   0.2s\n",
            "[CV 5/5] END ..C=0.6, gamma=auto, kernel=linear;, score=0.467 total time=   0.2s\n",
            "[CV 1/5] END ....C=0.7, gamma=scale, kernel=rbf;, score=0.475 total time=   0.3s\n",
            "[CV 2/5] END ....C=0.7, gamma=scale, kernel=rbf;, score=0.557 total time=   0.3s\n",
            "[CV 3/5] END ....C=0.7, gamma=scale, kernel=rbf;, score=0.459 total time=   0.3s\n",
            "[CV 4/5] END ....C=0.7, gamma=scale, kernel=rbf;, score=0.583 total time=   0.3s\n",
            "[CV 5/5] END ....C=0.7, gamma=scale, kernel=rbf;, score=0.583 total time=   0.3s\n",
            "[CV 1/5] END ...C=0.7, gamma=scale, kernel=poly;, score=0.492 total time=   0.2s\n",
            "[CV 2/5] END ...C=0.7, gamma=scale, kernel=poly;, score=0.656 total time=   0.2s\n",
            "[CV 3/5] END ...C=0.7, gamma=scale, kernel=poly;, score=0.475 total time=   0.2s\n",
            "[CV 4/5] END ...C=0.7, gamma=scale, kernel=poly;, score=0.533 total time=   0.3s\n",
            "[CV 5/5] END ...C=0.7, gamma=scale, kernel=poly;, score=0.550 total time=   0.3s\n",
            "[CV 1/5] END C=0.7, gamma=scale, kernel=sigmoid;, score=0.574 total time=   0.2s\n",
            "[CV 2/5] END C=0.7, gamma=scale, kernel=sigmoid;, score=0.557 total time=   0.3s\n",
            "[CV 3/5] END C=0.7, gamma=scale, kernel=sigmoid;, score=0.557 total time=   0.3s\n",
            "[CV 4/5] END C=0.7, gamma=scale, kernel=sigmoid;, score=0.567 total time=   0.2s\n",
            "[CV 5/5] END C=0.7, gamma=scale, kernel=sigmoid;, score=0.567 total time=   0.3s\n",
            "[CV 1/5] END .C=0.7, gamma=scale, kernel=linear;, score=0.475 total time=   0.2s\n",
            "[CV 2/5] END .C=0.7, gamma=scale, kernel=linear;, score=0.525 total time=   0.2s\n",
            "[CV 3/5] END .C=0.7, gamma=scale, kernel=linear;, score=0.459 total time=   0.2s\n",
            "[CV 4/5] END .C=0.7, gamma=scale, kernel=linear;, score=0.483 total time=   0.2s\n",
            "[CV 5/5] END .C=0.7, gamma=scale, kernel=linear;, score=0.467 total time=   0.2s\n",
            "[CV 1/5] END .....C=0.7, gamma=auto, kernel=rbf;, score=0.557 total time=   0.2s\n",
            "[CV 2/5] END .....C=0.7, gamma=auto, kernel=rbf;, score=0.557 total time=   0.3s\n",
            "[CV 3/5] END .....C=0.7, gamma=auto, kernel=rbf;, score=0.557 total time=   0.2s\n",
            "[CV 4/5] END .....C=0.7, gamma=auto, kernel=rbf;, score=0.567 total time=   0.3s\n",
            "[CV 5/5] END .....C=0.7, gamma=auto, kernel=rbf;, score=0.567 total time=   0.3s\n",
            "[CV 1/5] END ....C=0.7, gamma=auto, kernel=poly;, score=0.557 total time=   0.2s\n",
            "[CV 2/5] END ....C=0.7, gamma=auto, kernel=poly;, score=0.557 total time=   0.2s\n",
            "[CV 3/5] END ....C=0.7, gamma=auto, kernel=poly;, score=0.557 total time=   0.2s\n",
            "[CV 4/5] END ....C=0.7, gamma=auto, kernel=poly;, score=0.567 total time=   0.2s\n",
            "[CV 5/5] END ....C=0.7, gamma=auto, kernel=poly;, score=0.567 total time=   0.2s\n",
            "[CV 1/5] END .C=0.7, gamma=auto, kernel=sigmoid;, score=0.557 total time=   0.2s\n",
            "[CV 2/5] END .C=0.7, gamma=auto, kernel=sigmoid;, score=0.557 total time=   0.2s\n",
            "[CV 3/5] END .C=0.7, gamma=auto, kernel=sigmoid;, score=0.557 total time=   0.2s\n",
            "[CV 4/5] END .C=0.7, gamma=auto, kernel=sigmoid;, score=0.567 total time=   0.2s\n",
            "[CV 5/5] END .C=0.7, gamma=auto, kernel=sigmoid;, score=0.567 total time=   0.3s\n",
            "[CV 1/5] END ..C=0.7, gamma=auto, kernel=linear;, score=0.475 total time=   0.2s\n",
            "[CV 2/5] END ..C=0.7, gamma=auto, kernel=linear;, score=0.525 total time=   0.2s\n",
            "[CV 3/5] END ..C=0.7, gamma=auto, kernel=linear;, score=0.459 total time=   0.2s\n",
            "[CV 4/5] END ..C=0.7, gamma=auto, kernel=linear;, score=0.483 total time=   0.2s\n",
            "[CV 5/5] END ..C=0.7, gamma=auto, kernel=linear;, score=0.467 total time=   0.2s\n",
            "[CV 1/5] END ....C=0.8, gamma=scale, kernel=rbf;, score=0.475 total time=   0.2s\n",
            "[CV 2/5] END ....C=0.8, gamma=scale, kernel=rbf;, score=0.590 total time=   0.3s\n",
            "[CV 3/5] END ....C=0.8, gamma=scale, kernel=rbf;, score=0.459 total time=   0.3s\n",
            "[CV 4/5] END ....C=0.8, gamma=scale, kernel=rbf;, score=0.583 total time=   0.3s\n",
            "[CV 5/5] END ....C=0.8, gamma=scale, kernel=rbf;, score=0.583 total time=   0.3s\n",
            "[CV 1/5] END ...C=0.8, gamma=scale, kernel=poly;, score=0.492 total time=   0.2s\n",
            "[CV 2/5] END ...C=0.8, gamma=scale, kernel=poly;, score=0.656 total time=   0.2s\n",
            "[CV 3/5] END ...C=0.8, gamma=scale, kernel=poly;, score=0.475 total time=   0.2s\n",
            "[CV 4/5] END ...C=0.8, gamma=scale, kernel=poly;, score=0.533 total time=   0.2s\n",
            "[CV 5/5] END ...C=0.8, gamma=scale, kernel=poly;, score=0.550 total time=   0.2s\n",
            "[CV 1/5] END C=0.8, gamma=scale, kernel=sigmoid;, score=0.574 total time=   0.2s\n",
            "[CV 2/5] END C=0.8, gamma=scale, kernel=sigmoid;, score=0.557 total time=   0.2s\n",
            "[CV 3/5] END C=0.8, gamma=scale, kernel=sigmoid;, score=0.557 total time=   0.2s\n",
            "[CV 4/5] END C=0.8, gamma=scale, kernel=sigmoid;, score=0.567 total time=   0.2s\n",
            "[CV 5/5] END C=0.8, gamma=scale, kernel=sigmoid;, score=0.567 total time=   0.2s\n",
            "[CV 1/5] END .C=0.8, gamma=scale, kernel=linear;, score=0.475 total time=   0.2s\n",
            "[CV 2/5] END .C=0.8, gamma=scale, kernel=linear;, score=0.525 total time=   0.2s\n",
            "[CV 3/5] END .C=0.8, gamma=scale, kernel=linear;, score=0.459 total time=   0.3s\n",
            "[CV 4/5] END .C=0.8, gamma=scale, kernel=linear;, score=0.483 total time=   0.3s\n",
            "[CV 5/5] END .C=0.8, gamma=scale, kernel=linear;, score=0.467 total time=   0.2s\n",
            "[CV 1/5] END .....C=0.8, gamma=auto, kernel=rbf;, score=0.557 total time=   0.3s\n",
            "[CV 2/5] END .....C=0.8, gamma=auto, kernel=rbf;, score=0.557 total time=   0.3s\n",
            "[CV 3/5] END .....C=0.8, gamma=auto, kernel=rbf;, score=0.557 total time=   0.3s\n",
            "[CV 4/5] END .....C=0.8, gamma=auto, kernel=rbf;, score=0.567 total time=   0.3s\n",
            "[CV 5/5] END .....C=0.8, gamma=auto, kernel=rbf;, score=0.567 total time=   0.2s\n",
            "[CV 1/5] END ....C=0.8, gamma=auto, kernel=poly;, score=0.557 total time=   0.2s\n",
            "[CV 2/5] END ....C=0.8, gamma=auto, kernel=poly;, score=0.557 total time=   0.2s\n",
            "[CV 3/5] END ....C=0.8, gamma=auto, kernel=poly;, score=0.557 total time=   0.2s\n",
            "[CV 4/5] END ....C=0.8, gamma=auto, kernel=poly;, score=0.567 total time=   0.2s\n",
            "[CV 5/5] END ....C=0.8, gamma=auto, kernel=poly;, score=0.567 total time=   0.2s\n",
            "[CV 1/5] END .C=0.8, gamma=auto, kernel=sigmoid;, score=0.557 total time=   0.2s\n",
            "[CV 2/5] END .C=0.8, gamma=auto, kernel=sigmoid;, score=0.557 total time=   0.2s\n",
            "[CV 3/5] END .C=0.8, gamma=auto, kernel=sigmoid;, score=0.557 total time=   0.2s\n",
            "[CV 4/5] END .C=0.8, gamma=auto, kernel=sigmoid;, score=0.567 total time=   0.2s\n",
            "[CV 5/5] END .C=0.8, gamma=auto, kernel=sigmoid;, score=0.567 total time=   0.2s\n",
            "[CV 1/5] END ..C=0.8, gamma=auto, kernel=linear;, score=0.475 total time=   0.2s\n",
            "[CV 2/5] END ..C=0.8, gamma=auto, kernel=linear;, score=0.525 total time=   0.2s\n",
            "[CV 3/5] END ..C=0.8, gamma=auto, kernel=linear;, score=0.459 total time=   0.2s\n",
            "[CV 4/5] END ..C=0.8, gamma=auto, kernel=linear;, score=0.483 total time=   0.2s\n",
            "[CV 5/5] END ..C=0.8, gamma=auto, kernel=linear;, score=0.467 total time=   0.2s\n",
            "[CV 1/5] END ....C=0.9, gamma=scale, kernel=rbf;, score=0.475 total time=   0.3s\n",
            "[CV 2/5] END ....C=0.9, gamma=scale, kernel=rbf;, score=0.574 total time=   0.3s\n",
            "[CV 3/5] END ....C=0.9, gamma=scale, kernel=rbf;, score=0.459 total time=   0.3s\n",
            "[CV 4/5] END ....C=0.9, gamma=scale, kernel=rbf;, score=0.600 total time=   0.3s\n",
            "[CV 5/5] END ....C=0.9, gamma=scale, kernel=rbf;, score=0.567 total time=   0.3s\n",
            "[CV 1/5] END ...C=0.9, gamma=scale, kernel=poly;, score=0.492 total time=   0.2s\n",
            "[CV 2/5] END ...C=0.9, gamma=scale, kernel=poly;, score=0.623 total time=   0.2s\n",
            "[CV 3/5] END ...C=0.9, gamma=scale, kernel=poly;, score=0.475 total time=   0.2s\n",
            "[CV 4/5] END ...C=0.9, gamma=scale, kernel=poly;, score=0.533 total time=   0.2s\n",
            "[CV 5/5] END ...C=0.9, gamma=scale, kernel=poly;, score=0.550 total time=   0.2s\n",
            "[CV 1/5] END C=0.9, gamma=scale, kernel=sigmoid;, score=0.574 total time=   0.2s\n",
            "[CV 2/5] END C=0.9, gamma=scale, kernel=sigmoid;, score=0.557 total time=   0.2s\n",
            "[CV 3/5] END C=0.9, gamma=scale, kernel=sigmoid;, score=0.557 total time=   0.2s\n",
            "[CV 4/5] END C=0.9, gamma=scale, kernel=sigmoid;, score=0.567 total time=   0.2s\n",
            "[CV 5/5] END C=0.9, gamma=scale, kernel=sigmoid;, score=0.567 total time=   0.2s\n",
            "[CV 1/5] END .C=0.9, gamma=scale, kernel=linear;, score=0.475 total time=   0.2s\n",
            "[CV 2/5] END .C=0.9, gamma=scale, kernel=linear;, score=0.525 total time=   0.3s\n",
            "[CV 3/5] END .C=0.9, gamma=scale, kernel=linear;, score=0.459 total time=   0.3s\n",
            "[CV 4/5] END .C=0.9, gamma=scale, kernel=linear;, score=0.483 total time=   0.3s\n",
            "[CV 5/5] END .C=0.9, gamma=scale, kernel=linear;, score=0.467 total time=   0.2s\n",
            "[CV 1/5] END .....C=0.9, gamma=auto, kernel=rbf;, score=0.557 total time=   0.2s\n",
            "[CV 2/5] END .....C=0.9, gamma=auto, kernel=rbf;, score=0.557 total time=   0.2s\n",
            "[CV 3/5] END .....C=0.9, gamma=auto, kernel=rbf;, score=0.557 total time=   0.2s\n",
            "[CV 4/5] END .....C=0.9, gamma=auto, kernel=rbf;, score=0.567 total time=   0.2s\n",
            "[CV 5/5] END .....C=0.9, gamma=auto, kernel=rbf;, score=0.567 total time=   0.3s\n",
            "[CV 1/5] END ....C=0.9, gamma=auto, kernel=poly;, score=0.557 total time=   0.2s\n",
            "[CV 2/5] END ....C=0.9, gamma=auto, kernel=poly;, score=0.557 total time=   0.2s\n",
            "[CV 3/5] END ....C=0.9, gamma=auto, kernel=poly;, score=0.557 total time=   0.2s\n",
            "[CV 4/5] END ....C=0.9, gamma=auto, kernel=poly;, score=0.567 total time=   0.2s\n",
            "[CV 5/5] END ....C=0.9, gamma=auto, kernel=poly;, score=0.567 total time=   0.2s\n",
            "[CV 1/5] END .C=0.9, gamma=auto, kernel=sigmoid;, score=0.557 total time=   0.2s\n",
            "[CV 2/5] END .C=0.9, gamma=auto, kernel=sigmoid;, score=0.557 total time=   0.2s\n",
            "[CV 3/5] END .C=0.9, gamma=auto, kernel=sigmoid;, score=0.557 total time=   0.2s\n",
            "[CV 4/5] END .C=0.9, gamma=auto, kernel=sigmoid;, score=0.567 total time=   0.2s\n",
            "[CV 5/5] END .C=0.9, gamma=auto, kernel=sigmoid;, score=0.567 total time=   0.2s\n",
            "[CV 1/5] END ..C=0.9, gamma=auto, kernel=linear;, score=0.475 total time=   0.2s\n",
            "[CV 2/5] END ..C=0.9, gamma=auto, kernel=linear;, score=0.525 total time=   0.2s\n",
            "[CV 3/5] END ..C=0.9, gamma=auto, kernel=linear;, score=0.459 total time=   0.2s\n",
            "[CV 4/5] END ..C=0.9, gamma=auto, kernel=linear;, score=0.483 total time=   0.2s\n",
            "[CV 5/5] END ..C=0.9, gamma=auto, kernel=linear;, score=0.467 total time=   0.2s\n",
            "[CV 1/5] END ......C=1, gamma=scale, kernel=rbf;, score=0.492 total time=   0.2s\n",
            "[CV 2/5] END ......C=1, gamma=scale, kernel=rbf;, score=0.574 total time=   0.3s\n",
            "[CV 3/5] END ......C=1, gamma=scale, kernel=rbf;, score=0.443 total time=   0.2s\n",
            "[CV 4/5] END ......C=1, gamma=scale, kernel=rbf;, score=0.583 total time=   0.3s\n",
            "[CV 5/5] END ......C=1, gamma=scale, kernel=rbf;, score=0.533 total time=   0.3s\n",
            "[CV 1/5] END .....C=1, gamma=scale, kernel=poly;, score=0.492 total time=   0.2s\n",
            "[CV 2/5] END .....C=1, gamma=scale, kernel=poly;, score=0.623 total time=   0.2s\n",
            "[CV 3/5] END .....C=1, gamma=scale, kernel=poly;, score=0.475 total time=   0.2s\n",
            "[CV 4/5] END .....C=1, gamma=scale, kernel=poly;, score=0.500 total time=   0.9s\n",
            "[CV 5/5] END .....C=1, gamma=scale, kernel=poly;, score=0.567 total time=   0.4s\n",
            "[CV 1/5] END ..C=1, gamma=scale, kernel=sigmoid;, score=0.574 total time=   0.2s\n",
            "[CV 2/5] END ..C=1, gamma=scale, kernel=sigmoid;, score=0.557 total time=   0.2s\n",
            "[CV 3/5] END ..C=1, gamma=scale, kernel=sigmoid;, score=0.557 total time=   0.2s\n",
            "[CV 4/5] END ..C=1, gamma=scale, kernel=sigmoid;, score=0.567 total time=   0.2s\n",
            "[CV 5/5] END ..C=1, gamma=scale, kernel=sigmoid;, score=0.567 total time=   0.2s\n",
            "[CV 1/5] END ...C=1, gamma=scale, kernel=linear;, score=0.475 total time=   0.2s\n",
            "[CV 2/5] END ...C=1, gamma=scale, kernel=linear;, score=0.525 total time=   0.2s\n",
            "[CV 3/5] END ...C=1, gamma=scale, kernel=linear;, score=0.459 total time=   0.2s\n",
            "[CV 4/5] END ...C=1, gamma=scale, kernel=linear;, score=0.483 total time=   0.2s\n",
            "[CV 5/5] END ...C=1, gamma=scale, kernel=linear;, score=0.467 total time=   0.2s\n",
            "[CV 1/5] END .......C=1, gamma=auto, kernel=rbf;, score=0.557 total time=   0.2s\n",
            "[CV 2/5] END .......C=1, gamma=auto, kernel=rbf;, score=0.557 total time=   0.2s\n",
            "[CV 3/5] END .......C=1, gamma=auto, kernel=rbf;, score=0.557 total time=   0.2s\n",
            "[CV 4/5] END .......C=1, gamma=auto, kernel=rbf;, score=0.567 total time=   0.3s\n",
            "[CV 5/5] END .......C=1, gamma=auto, kernel=rbf;, score=0.567 total time=   0.3s\n",
            "[CV 1/5] END ......C=1, gamma=auto, kernel=poly;, score=0.557 total time=   0.2s\n",
            "[CV 2/5] END ......C=1, gamma=auto, kernel=poly;, score=0.557 total time=   0.2s\n",
            "[CV 3/5] END ......C=1, gamma=auto, kernel=poly;, score=0.557 total time=   0.2s\n",
            "[CV 4/5] END ......C=1, gamma=auto, kernel=poly;, score=0.567 total time=   0.2s\n",
            "[CV 5/5] END ......C=1, gamma=auto, kernel=poly;, score=0.567 total time=   0.2s\n",
            "[CV 1/5] END ...C=1, gamma=auto, kernel=sigmoid;, score=0.557 total time=   0.2s\n",
            "[CV 2/5] END ...C=1, gamma=auto, kernel=sigmoid;, score=0.557 total time=   0.2s\n",
            "[CV 3/5] END ...C=1, gamma=auto, kernel=sigmoid;, score=0.557 total time=   0.2s\n",
            "[CV 4/5] END ...C=1, gamma=auto, kernel=sigmoid;, score=0.567 total time=   0.2s\n",
            "[CV 5/5] END ...C=1, gamma=auto, kernel=sigmoid;, score=0.567 total time=   0.2s\n",
            "[CV 1/5] END ....C=1, gamma=auto, kernel=linear;, score=0.475 total time=   0.2s\n",
            "[CV 2/5] END ....C=1, gamma=auto, kernel=linear;, score=0.525 total time=   0.3s\n",
            "[CV 3/5] END ....C=1, gamma=auto, kernel=linear;, score=0.459 total time=   0.2s\n",
            "[CV 4/5] END ....C=1, gamma=auto, kernel=linear;, score=0.483 total time=   0.2s\n",
            "[CV 5/5] END ....C=1, gamma=auto, kernel=linear;, score=0.467 total time=   0.3s\n",
            "[CV 1/5] END ....C=1.5, gamma=scale, kernel=rbf;, score=0.475 total time=   0.3s\n",
            "[CV 2/5] END ....C=1.5, gamma=scale, kernel=rbf;, score=0.525 total time=   0.3s\n",
            "[CV 3/5] END ....C=1.5, gamma=scale, kernel=rbf;, score=0.426 total time=   0.4s\n",
            "[CV 4/5] END ....C=1.5, gamma=scale, kernel=rbf;, score=0.517 total time=   0.4s\n",
            "[CV 5/5] END ....C=1.5, gamma=scale, kernel=rbf;, score=0.550 total time=   0.3s\n",
            "[CV 1/5] END ...C=1.5, gamma=scale, kernel=poly;, score=0.492 total time=   0.2s\n",
            "[CV 2/5] END ...C=1.5, gamma=scale, kernel=poly;, score=0.590 total time=   0.2s\n",
            "[CV 3/5] END ...C=1.5, gamma=scale, kernel=poly;, score=0.475 total time=   0.2s\n",
            "[CV 4/5] END ...C=1.5, gamma=scale, kernel=poly;, score=0.517 total time=   0.2s\n",
            "[CV 5/5] END ...C=1.5, gamma=scale, kernel=poly;, score=0.550 total time=   0.2s\n",
            "[CV 1/5] END C=1.5, gamma=scale, kernel=sigmoid;, score=0.590 total time=   0.2s\n",
            "[CV 2/5] END C=1.5, gamma=scale, kernel=sigmoid;, score=0.557 total time=   0.2s\n",
            "[CV 3/5] END C=1.5, gamma=scale, kernel=sigmoid;, score=0.557 total time=   0.2s\n",
            "[CV 4/5] END C=1.5, gamma=scale, kernel=sigmoid;, score=0.567 total time=   0.2s\n",
            "[CV 5/5] END C=1.5, gamma=scale, kernel=sigmoid;, score=0.567 total time=   0.2s\n",
            "[CV 1/5] END .C=1.5, gamma=scale, kernel=linear;, score=0.475 total time=   0.2s\n",
            "[CV 2/5] END .C=1.5, gamma=scale, kernel=linear;, score=0.525 total time=   0.2s\n",
            "[CV 3/5] END .C=1.5, gamma=scale, kernel=linear;, score=0.459 total time=   0.2s\n",
            "[CV 4/5] END .C=1.5, gamma=scale, kernel=linear;, score=0.483 total time=   0.2s\n",
            "[CV 5/5] END .C=1.5, gamma=scale, kernel=linear;, score=0.467 total time=   0.2s\n",
            "[CV 1/5] END .....C=1.5, gamma=auto, kernel=rbf;, score=0.557 total time=   0.2s\n",
            "[CV 2/5] END .....C=1.5, gamma=auto, kernel=rbf;, score=0.557 total time=   0.2s\n",
            "[CV 3/5] END .....C=1.5, gamma=auto, kernel=rbf;, score=0.557 total time=   0.2s\n",
            "[CV 4/5] END .....C=1.5, gamma=auto, kernel=rbf;, score=0.567 total time=   0.2s\n",
            "[CV 5/5] END .....C=1.5, gamma=auto, kernel=rbf;, score=0.567 total time=   0.3s\n",
            "[CV 1/5] END ....C=1.5, gamma=auto, kernel=poly;, score=0.557 total time=   0.3s\n",
            "[CV 2/5] END ....C=1.5, gamma=auto, kernel=poly;, score=0.557 total time=   0.2s\n",
            "[CV 3/5] END ....C=1.5, gamma=auto, kernel=poly;, score=0.557 total time=   0.2s\n",
            "[CV 4/5] END ....C=1.5, gamma=auto, kernel=poly;, score=0.567 total time=   0.2s\n",
            "[CV 5/5] END ....C=1.5, gamma=auto, kernel=poly;, score=0.567 total time=   0.2s\n",
            "[CV 1/5] END .C=1.5, gamma=auto, kernel=sigmoid;, score=0.557 total time=   0.2s\n",
            "[CV 2/5] END .C=1.5, gamma=auto, kernel=sigmoid;, score=0.557 total time=   0.2s\n",
            "[CV 3/5] END .C=1.5, gamma=auto, kernel=sigmoid;, score=0.557 total time=   0.2s\n",
            "[CV 4/5] END .C=1.5, gamma=auto, kernel=sigmoid;, score=0.567 total time=   0.2s\n",
            "[CV 5/5] END .C=1.5, gamma=auto, kernel=sigmoid;, score=0.567 total time=   0.2s\n",
            "[CV 1/5] END ..C=1.5, gamma=auto, kernel=linear;, score=0.475 total time=   0.2s\n",
            "[CV 2/5] END ..C=1.5, gamma=auto, kernel=linear;, score=0.525 total time=   0.2s\n",
            "[CV 3/5] END ..C=1.5, gamma=auto, kernel=linear;, score=0.459 total time=   0.2s\n",
            "[CV 4/5] END ..C=1.5, gamma=auto, kernel=linear;, score=0.483 total time=   0.2s\n",
            "[CV 5/5] END ..C=1.5, gamma=auto, kernel=linear;, score=0.467 total time=   0.2s\n",
            "[0.5610929  0.53120219 0.5610929  0.50480874 0.5610929  0.5610929\n",
            " 0.5610929  0.50480874 0.5610929  0.51808743 0.5610929  0.48508197\n",
            " 0.5610929  0.5610929  0.5610929  0.48508197 0.5610929  0.51836066\n",
            " 0.5610929  0.48174863 0.5610929  0.5610929  0.5610929  0.48174863\n",
            " 0.5610929  0.53142077 0.5610929  0.48180328 0.5610929  0.5610929\n",
            " 0.5610929  0.48180328 0.5610929  0.54469945 0.5610929  0.48180328\n",
            " 0.5610929  0.5610929  0.5610929  0.48180328 0.55131148 0.5479235\n",
            " 0.56437158 0.48180328 0.5610929  0.5610929  0.5610929  0.48180328\n",
            " 0.53169399 0.54125683 0.56437158 0.48180328 0.5610929  0.5610929\n",
            " 0.5610929  0.48180328 0.53825137 0.54125683 0.56437158 0.48180328\n",
            " 0.5610929  0.5610929  0.5610929  0.48180328 0.53497268 0.53469945\n",
            " 0.56437158 0.48180328 0.5610929  0.5610929  0.5610929  0.48180328\n",
            " 0.52497268 0.53136612 0.56437158 0.48180328 0.5610929  0.5610929\n",
            " 0.5610929  0.48180328 0.49857923 0.52480874 0.56765027 0.48180328\n",
            " 0.5610929  0.5610929  0.5610929  0.48180328]\n"
          ]
        }
      ]
    },
    {
      "cell_type": "code",
      "source": [
        "print(grid.best_params_)"
      ],
      "metadata": {
        "colab": {
          "base_uri": "https://localhost:8080/"
        },
        "id": "ShRo7w9FA0bR",
        "outputId": "22d0d412-3773-4934-f1e9-354f133d5816"
      },
      "execution_count": null,
      "outputs": [
        {
          "output_type": "stream",
          "name": "stdout",
          "text": [
            "{'C': 1.5, 'gamma': 'scale', 'kernel': 'sigmoid'}\n"
          ]
        }
      ]
    },
    {
      "cell_type": "code",
      "source": [
        "param_grid_2 = {'C':[0.1, 0.2, 0.3, 0.4, 0.5, 0.6, 0.7, 0.8, 0.9, 1, 1.5]}\n",
        "model_1 = SVC(kernel = 'sigmoid', gamma = 'scale')\n",
        "grid_2 = GridSearchCV(model_1, param_grid_2, refit = True, verbose = 3, scoring = 'accuracy')\n",
        "grid_2.fit(x_val, y_val)\n",
        "allscores= grid_2.cv_results_['mean_test_score']\n",
        "print(allscores)\n"
      ],
      "metadata": {
        "colab": {
          "base_uri": "https://localhost:8080/"
        },
        "id": "W9O0GPXtARMM",
        "outputId": "33388307-67f4-42f3-bd78-14d90c15265f"
      },
      "execution_count": null,
      "outputs": [
        {
          "output_type": "stream",
          "name": "stdout",
          "text": [
            "Fitting 5 folds for each of 11 candidates, totalling 55 fits\n",
            "[CV 1/5] END .............................C=0.1;, score=0.557 total time=   0.2s\n",
            "[CV 2/5] END .............................C=0.1;, score=0.557 total time=   0.2s\n",
            "[CV 3/5] END .............................C=0.1;, score=0.557 total time=   0.3s\n",
            "[CV 4/5] END .............................C=0.1;, score=0.567 total time=   0.5s\n",
            "[CV 5/5] END .............................C=0.1;, score=0.567 total time=   0.5s\n",
            "[CV 1/5] END .............................C=0.2;, score=0.557 total time=   0.5s\n",
            "[CV 2/5] END .............................C=0.2;, score=0.557 total time=   0.4s\n",
            "[CV 3/5] END .............................C=0.2;, score=0.557 total time=   0.2s\n",
            "[CV 4/5] END .............................C=0.2;, score=0.567 total time=   0.3s\n",
            "[CV 5/5] END .............................C=0.2;, score=0.567 total time=   0.3s\n",
            "[CV 1/5] END .............................C=0.3;, score=0.557 total time=   0.3s\n",
            "[CV 2/5] END .............................C=0.3;, score=0.557 total time=   0.3s\n",
            "[CV 3/5] END .............................C=0.3;, score=0.557 total time=   0.3s\n",
            "[CV 4/5] END .............................C=0.3;, score=0.567 total time=   0.3s\n",
            "[CV 5/5] END .............................C=0.3;, score=0.567 total time=   0.3s\n",
            "[CV 1/5] END .............................C=0.4;, score=0.557 total time=   0.3s\n",
            "[CV 2/5] END .............................C=0.4;, score=0.557 total time=   0.3s\n",
            "[CV 3/5] END .............................C=0.4;, score=0.557 total time=   0.5s\n",
            "[CV 4/5] END .............................C=0.4;, score=0.567 total time=   0.4s\n",
            "[CV 5/5] END .............................C=0.4;, score=0.567 total time=   0.4s\n",
            "[CV 1/5] END .............................C=0.5;, score=0.557 total time=   0.3s\n",
            "[CV 2/5] END .............................C=0.5;, score=0.557 total time=   0.3s\n",
            "[CV 3/5] END .............................C=0.5;, score=0.557 total time=   0.3s\n",
            "[CV 4/5] END .............................C=0.5;, score=0.567 total time=   0.2s\n",
            "[CV 5/5] END .............................C=0.5;, score=0.567 total time=   0.2s\n",
            "[CV 1/5] END .............................C=0.6;, score=0.574 total time=   0.2s\n",
            "[CV 2/5] END .............................C=0.6;, score=0.557 total time=   0.2s\n",
            "[CV 3/5] END .............................C=0.6;, score=0.557 total time=   0.2s\n",
            "[CV 4/5] END .............................C=0.6;, score=0.567 total time=   0.2s\n",
            "[CV 5/5] END .............................C=0.6;, score=0.567 total time=   0.2s\n",
            "[CV 1/5] END .............................C=0.7;, score=0.574 total time=   0.2s\n",
            "[CV 2/5] END .............................C=0.7;, score=0.557 total time=   0.2s\n",
            "[CV 3/5] END .............................C=0.7;, score=0.557 total time=   0.2s\n",
            "[CV 4/5] END .............................C=0.7;, score=0.567 total time=   0.3s\n",
            "[CV 5/5] END .............................C=0.7;, score=0.567 total time=   0.3s\n",
            "[CV 1/5] END .............................C=0.8;, score=0.574 total time=   0.3s\n",
            "[CV 2/5] END .............................C=0.8;, score=0.557 total time=   0.3s\n",
            "[CV 3/5] END .............................C=0.8;, score=0.557 total time=   0.3s\n",
            "[CV 4/5] END .............................C=0.8;, score=0.567 total time=   0.3s\n",
            "[CV 5/5] END .............................C=0.8;, score=0.567 total time=   0.3s\n",
            "[CV 1/5] END .............................C=0.9;, score=0.574 total time=   0.3s\n",
            "[CV 2/5] END .............................C=0.9;, score=0.557 total time=   0.9s\n",
            "[CV 3/5] END .............................C=0.9;, score=0.557 total time=   0.5s\n",
            "[CV 4/5] END .............................C=0.9;, score=0.567 total time=   0.3s\n",
            "[CV 5/5] END .............................C=0.9;, score=0.567 total time=   0.3s\n",
            "[CV 1/5] END ...............................C=1;, score=0.574 total time=   0.2s\n",
            "[CV 2/5] END ...............................C=1;, score=0.557 total time=   0.3s\n",
            "[CV 3/5] END ...............................C=1;, score=0.557 total time=   0.3s\n",
            "[CV 4/5] END ...............................C=1;, score=0.567 total time=   0.2s\n",
            "[CV 5/5] END ...............................C=1;, score=0.567 total time=   0.3s\n",
            "[CV 1/5] END .............................C=1.5;, score=0.590 total time=   0.2s\n",
            "[CV 2/5] END .............................C=1.5;, score=0.557 total time=   0.2s\n",
            "[CV 3/5] END .............................C=1.5;, score=0.557 total time=   0.2s\n",
            "[CV 4/5] END .............................C=1.5;, score=0.567 total time=   0.2s\n",
            "[CV 5/5] END .............................C=1.5;, score=0.567 total time=   0.2s\n",
            "[0.5610929  0.5610929  0.5610929  0.5610929  0.5610929  0.56437158\n",
            " 0.56437158 0.56437158 0.56437158 0.56437158 0.56765027]\n"
          ]
        }
      ]
    },
    {
      "cell_type": "code",
      "source": [
        "C_params = [0.1, 0.2, 0.3, 0.4, 0.5, 0.6, 0.7, 0.8, 0.9, 1, 1.5]\n",
        "error_rates = [ (1-i)*100 for i in allscores]\n",
        "plt.figure(figsize = (20,8))\n",
        "plt.title(' Regularization paramter C optimization', fontsize = 25)\n",
        "plt.xlabel('C regulariztion paramter value', fontsize = 20)\n",
        "plt.ylabel('Error rate (%)', fontsize = 20)\n",
        "plt.xticks(np.arange(11),C_params)\n",
        "plt.plot(error_rates)"
      ],
      "metadata": {
        "colab": {
          "base_uri": "https://localhost:8080/",
          "height": 549
        },
        "id": "5Ey_OVwIDcbI",
        "outputId": "f36fec34-cd73-4d85-b9c9-47c79e92cb06"
      },
      "execution_count": null,
      "outputs": [
        {
          "output_type": "execute_result",
          "data": {
            "text/plain": [
              "[<matplotlib.lines.Line2D at 0x7efd5de88280>]"
            ]
          },
          "metadata": {},
          "execution_count": 30
        },
        {
          "output_type": "display_data",
          "data": {
            "text/plain": [
              "<Figure size 1440x576 with 1 Axes>"
            ],
            "image/png": "[encoded data removed]"
          },
          "metadata": {
            "needs_background": "light"
          }
        }
      ]
    },
    {
      "cell_type": "code",
      "source": [
        "model_1.fit(x_train, y_train)\n",
        "y_pred_train = model_1.predict(x_train)\n",
        "print(classification_report(y_train, y_pred_train))\n"
      ],
      "metadata": {
        "colab": {
          "base_uri": "https://localhost:8080/"
        },
        "id": "zT7DH76vIIJJ",
        "outputId": "527b8986-2701-456d-d3e4-90900fe4078e"
      },
      "execution_count": null,
      "outputs": [
        {
          "output_type": "stream",
          "name": "stdout",
          "text": [
            "              precision    recall  f1-score   support\n",
            "\n",
            "          -1       0.66      1.00      0.80       590\n",
            "           1       1.00      0.27      0.43       418\n",
            "\n",
            "    accuracy                           0.70      1008\n",
            "   macro avg       0.83      0.64      0.61      1008\n",
            "weighted avg       0.80      0.70      0.64      1008\n",
            "\n"
          ]
        }
      ]
    },
    {
      "cell_type": "code",
      "source": [
        "# Testing dataset\n",
        "y_pred_test = model_1.predict(x_test)\n",
        "print(classification_report(y_test, y_pred_test))"
      ],
      "metadata": {
        "colab": {
          "base_uri": "https://localhost:8080/"
        },
        "id": "5NU75wTGxbK0",
        "outputId": "567edb84-e2cf-4a3a-93aa-b2b8f9c95c6c"
      },
      "execution_count": null,
      "outputs": [
        {
          "output_type": "stream",
          "name": "stdout",
          "text": [
            "              precision    recall  f1-score   support\n",
            "\n",
            "          -1       0.58      0.98      0.73       251\n",
            "           1       0.54      0.04      0.07       181\n",
            "\n",
            "    accuracy                           0.58       432\n",
            "   macro avg       0.56      0.51      0.40       432\n",
            "weighted avg       0.57      0.58      0.46       432\n",
            "\n"
          ]
        }
      ]
    },
    {
      "cell_type": "code",
      "source": [
        "# employ cross validation for the C paramer and then the kernel selection \n",
        "# linear kernel \n",
        "C = [0.5, 1, 1.5, 2, 2.5, 3, 3.5, 4, 4.5, 5]\n",
        "model = SVC(kernel='rbf', gamma)\n",
        "scores = cross_val_score(model,x_train, y_train, cv=5)\n",
        "print(scores)"
      ],
      "metadata": {
        "colab": {
          "base_uri": "https://localhost:8080/"
        },
        "id": "lCsgNrsHPwRT",
        "outputId": "ae16d156-3d12-4da2-d92d-8599e5682570"
      },
      "execution_count": null,
      "outputs": [
        {
          "output_type": "stream",
          "name": "stdout",
          "text": [
            "[0.49009901 0.53465347 0.52970297 0.50746269 0.56716418]\n"
          ]
        }
      ]
    },
    {
      "cell_type": "code",
      "source": [
        "# rbf kernel cros validation \n",
        "\n",
        "C = 1.0\n",
        "model_1 = SVC(kernel='rbf', C=C)\n",
        "scores_1 = cross_val_score(model_1,x_train, y_train, cv=5)\n",
        "print(scores_1)"
      ],
      "metadata": {
        "colab": {
          "base_uri": "https://localhost:8080/"
        },
        "id": "fdOpilGMJF2D",
        "outputId": "90a598dc-bc86-46f5-84c1-00007807e8fe"
      },
      "execution_count": null,
      "outputs": [
        {
          "output_type": "stream",
          "name": "stdout",
          "text": [
            "[0.54455446 0.57425743 0.57920792 0.60199005 0.5721393 ]\n"
          ]
        }
      ]
    },
    {
      "cell_type": "code",
      "source": [
        "\n",
        "# poly kenerl cross validation \n",
        "\n",
        "C = 1.0\n",
        "model_2= SVC(kernel='poly', C=C)\n",
        "scores_2 = cross_val_score(model_2,x_train, y_train, cv=5)\n",
        "print(scores_2)\n"
      ],
      "metadata": {
        "colab": {
          "base_uri": "https://localhost:8080/"
        },
        "id": "5nWYwJdTJ2G3",
        "outputId": "87dd990f-5827-40f8-f6aa-c1abcf08d923"
      },
      "execution_count": null,
      "outputs": [
        {
          "output_type": "stream",
          "name": "stdout",
          "text": [
            "[0.51980198 0.4950495  0.5049505  0.55721393 0.52238806]\n"
          ]
        }
      ]
    },
    {
      "cell_type": "code",
      "source": [
        "print(grid.best_params_)"
      ],
      "metadata": {
        "colab": {
          "base_uri": "https://localhost:8080/"
        },
        "id": "IFW4nXmsa7nV",
        "outputId": "0cd7f42b-e817-46c3-bd3f-8df479e5d45a"
      },
      "execution_count": null,
      "outputs": [
        {
          "output_type": "stream",
          "name": "stdout",
          "text": [
            "{'C': 0.5, 'gamma': 'scale', 'kernel': 'rbf'}\n"
          ]
        }
      ]
    }
  ]
}